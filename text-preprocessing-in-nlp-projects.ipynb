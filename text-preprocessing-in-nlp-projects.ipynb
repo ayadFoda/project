{
 "cells": [
  {
   "cell_type": "code",
   "execution_count": 1,
   "id": "39594be0",
   "metadata": {
    "_cell_guid": "b1076dfc-b9ad-4769-8c92-a6c4dae69d19",
    "_uuid": "8f2839f25d086af736a60e9eeb907d3b93b6e0e5",
    "execution": {
     "iopub.execute_input": "2023-05-14T19:31:29.973295Z",
     "iopub.status.busy": "2023-05-14T19:31:29.971814Z",
     "iopub.status.idle": "2023-05-14T19:31:29.982492Z",
     "shell.execute_reply": "2023-05-14T19:31:29.981839Z",
     "shell.execute_reply.started": "2023-05-14T19:29:39.328202Z"
    },
    "papermill": {
     "duration": 0.076115,
     "end_time": "2023-05-14T19:31:29.982674",
     "exception": false,
     "start_time": "2023-05-14T19:31:29.906559",
     "status": "completed"
    },
    "tags": []
   },
   "outputs": [],
   "source": [
    "import numpy as np\n",
    "import pandas as pd"
   ]
  },
  {
   "cell_type": "code",
   "execution_count": 2,
   "id": "a2df1ce8",
   "metadata": {
    "execution": {
     "iopub.execute_input": "2023-05-14T19:31:30.112574Z",
     "iopub.status.busy": "2023-05-14T19:31:30.109949Z",
     "iopub.status.idle": "2023-05-14T19:31:31.676908Z",
     "shell.execute_reply": "2023-05-14T19:31:31.676068Z",
     "shell.execute_reply.started": "2023-05-14T19:29:39.779107Z"
    },
    "papermill": {
     "duration": 1.632577,
     "end_time": "2023-05-14T19:31:31.677147",
     "exception": false,
     "start_time": "2023-05-14T19:31:30.044570",
     "status": "completed"
    },
    "tags": []
   },
   "outputs": [],
   "source": [
    "df = pd.read_csv('/kaggle/input/imdb-dataset-of-50k-movie-reviews/IMDB Dataset.csv')"
   ]
  },
  {
   "cell_type": "code",
   "execution_count": 3,
   "id": "869c20f7",
   "metadata": {
    "execution": {
     "iopub.execute_input": "2023-05-14T19:31:31.816410Z",
     "iopub.status.busy": "2023-05-14T19:31:31.815576Z",
     "iopub.status.idle": "2023-05-14T19:31:31.819543Z",
     "shell.execute_reply": "2023-05-14T19:31:31.820064Z",
     "shell.execute_reply.started": "2023-05-14T19:29:41.118019Z"
    },
    "papermill": {
     "duration": 0.073954,
     "end_time": "2023-05-14T19:31:31.820242",
     "exception": false,
     "start_time": "2023-05-14T19:31:31.746288",
     "status": "completed"
    },
    "tags": []
   },
   "outputs": [
    {
     "data": {
      "text/plain": [
       "(50000, 2)"
      ]
     },
     "execution_count": 3,
     "metadata": {},
     "output_type": "execute_result"
    }
   ],
   "source": [
    "df.shape"
   ]
  },
  {
   "cell_type": "code",
   "execution_count": 4,
   "id": "6d62f551",
   "metadata": {
    "execution": {
     "iopub.execute_input": "2023-05-14T19:31:31.947743Z",
     "iopub.status.busy": "2023-05-14T19:31:31.947007Z",
     "iopub.status.idle": "2023-05-14T19:31:31.958715Z",
     "shell.execute_reply": "2023-05-14T19:31:31.959229Z",
     "shell.execute_reply.started": "2023-05-14T19:29:41.128388Z"
    },
    "papermill": {
     "duration": 0.078086,
     "end_time": "2023-05-14T19:31:31.959405",
     "exception": false,
     "start_time": "2023-05-14T19:31:31.881319",
     "status": "completed"
    },
    "tags": []
   },
   "outputs": [
    {
     "data": {
      "text/html": [
       "<div>\n",
       "<style scoped>\n",
       "    .dataframe tbody tr th:only-of-type {\n",
       "        vertical-align: middle;\n",
       "    }\n",
       "\n",
       "    .dataframe tbody tr th {\n",
       "        vertical-align: top;\n",
       "    }\n",
       "\n",
       "    .dataframe thead th {\n",
       "        text-align: right;\n",
       "    }\n",
       "</style>\n",
       "<table border=\"1\" class=\"dataframe\">\n",
       "  <thead>\n",
       "    <tr style=\"text-align: right;\">\n",
       "      <th></th>\n",
       "      <th>review</th>\n",
       "      <th>sentiment</th>\n",
       "    </tr>\n",
       "  </thead>\n",
       "  <tbody>\n",
       "    <tr>\n",
       "      <th>0</th>\n",
       "      <td>One of the other reviewers has mentioned that ...</td>\n",
       "      <td>positive</td>\n",
       "    </tr>\n",
       "    <tr>\n",
       "      <th>1</th>\n",
       "      <td>A wonderful little production. &lt;br /&gt;&lt;br /&gt;The...</td>\n",
       "      <td>positive</td>\n",
       "    </tr>\n",
       "    <tr>\n",
       "      <th>2</th>\n",
       "      <td>I thought this was a wonderful way to spend ti...</td>\n",
       "      <td>positive</td>\n",
       "    </tr>\n",
       "    <tr>\n",
       "      <th>3</th>\n",
       "      <td>Basically there's a family where a little boy ...</td>\n",
       "      <td>negative</td>\n",
       "    </tr>\n",
       "    <tr>\n",
       "      <th>4</th>\n",
       "      <td>Petter Mattei's \"Love in the Time of Money\" is...</td>\n",
       "      <td>positive</td>\n",
       "    </tr>\n",
       "  </tbody>\n",
       "</table>\n",
       "</div>"
      ],
      "text/plain": [
       "                                              review sentiment\n",
       "0  One of the other reviewers has mentioned that ...  positive\n",
       "1  A wonderful little production. <br /><br />The...  positive\n",
       "2  I thought this was a wonderful way to spend ti...  positive\n",
       "3  Basically there's a family where a little boy ...  negative\n",
       "4  Petter Mattei's \"Love in the Time of Money\" is...  positive"
      ]
     },
     "execution_count": 4,
     "metadata": {},
     "output_type": "execute_result"
    }
   ],
   "source": [
    "df.head()"
   ]
  },
  {
   "cell_type": "markdown",
   "id": "c13f2217",
   "metadata": {
    "papermill": {
     "duration": 0.06013,
     "end_time": "2023-05-14T19:31:32.079635",
     "exception": false,
     "start_time": "2023-05-14T19:31:32.019505",
     "status": "completed"
    },
    "tags": []
   },
   "source": [
    "# Lowercase"
   ]
  },
  {
   "cell_type": "code",
   "execution_count": 5,
   "id": "8c0be65b",
   "metadata": {
    "execution": {
     "iopub.execute_input": "2023-05-14T19:31:32.202974Z",
     "iopub.status.busy": "2023-05-14T19:31:32.202302Z",
     "iopub.status.idle": "2023-05-14T19:31:32.209817Z",
     "shell.execute_reply": "2023-05-14T19:31:32.210423Z",
     "shell.execute_reply.started": "2023-05-14T19:29:41.153984Z"
    },
    "papermill": {
     "duration": 0.070683,
     "end_time": "2023-05-14T19:31:32.210618",
     "exception": false,
     "start_time": "2023-05-14T19:31:32.139935",
     "status": "completed"
    },
    "tags": []
   },
   "outputs": [
    {
     "data": {
      "text/plain": [
       "\"basically there's a family where a little boy (jake) thinks there's a zombie in his closet & his parents are fighting all the time.<br /><br />this movie is slower than a soap opera... and suddenly, jake decides to become rambo and kill the zombie.<br /><br />ok, first of all when you're going to make a film you must decide if its a thriller or a drama! as a drama the movie is watchable. parents are divorcing & arguing like in real life. and then we have jake with his closet which totally ruins all the film! i expected to see a boogeyman similar movie, and instead i watched a drama with some meaningless thriller spots.<br /><br />3 out of 10 just for the well playing parents & descent dialogs. as for the shots with jake: just ignore them.\""
      ]
     },
     "execution_count": 5,
     "metadata": {},
     "output_type": "execute_result"
    }
   ],
   "source": [
    "df['review'][3].lower()"
   ]
  },
  {
   "cell_type": "code",
   "execution_count": 6,
   "id": "3e04b1a7",
   "metadata": {
    "execution": {
     "iopub.execute_input": "2023-05-14T19:31:32.334551Z",
     "iopub.status.busy": "2023-05-14T19:31:32.333862Z",
     "iopub.status.idle": "2023-05-14T19:31:32.490343Z",
     "shell.execute_reply": "2023-05-14T19:31:32.489638Z",
     "shell.execute_reply.started": "2023-05-14T19:29:41.168094Z"
    },
    "papermill": {
     "duration": 0.219857,
     "end_time": "2023-05-14T19:31:32.490530",
     "exception": false,
     "start_time": "2023-05-14T19:31:32.270673",
     "status": "completed"
    },
    "tags": []
   },
   "outputs": [],
   "source": [
    "df['review'] = df['review'].str.lower()"
   ]
  },
  {
   "cell_type": "code",
   "execution_count": 7,
   "id": "a934c620",
   "metadata": {
    "execution": {
     "iopub.execute_input": "2023-05-14T19:31:32.620559Z",
     "iopub.status.busy": "2023-05-14T19:31:32.619828Z",
     "iopub.status.idle": "2023-05-14T19:31:32.623741Z",
     "shell.execute_reply": "2023-05-14T19:31:32.623202Z",
     "shell.execute_reply.started": "2023-05-14T19:29:41.349411Z"
    },
    "papermill": {
     "duration": 0.073267,
     "end_time": "2023-05-14T19:31:32.623904",
     "exception": false,
     "start_time": "2023-05-14T19:31:32.550637",
     "status": "completed"
    },
    "tags": []
   },
   "outputs": [
    {
     "data": {
      "text/html": [
       "<div>\n",
       "<style scoped>\n",
       "    .dataframe tbody tr th:only-of-type {\n",
       "        vertical-align: middle;\n",
       "    }\n",
       "\n",
       "    .dataframe tbody tr th {\n",
       "        vertical-align: top;\n",
       "    }\n",
       "\n",
       "    .dataframe thead th {\n",
       "        text-align: right;\n",
       "    }\n",
       "</style>\n",
       "<table border=\"1\" class=\"dataframe\">\n",
       "  <thead>\n",
       "    <tr style=\"text-align: right;\">\n",
       "      <th></th>\n",
       "      <th>review</th>\n",
       "      <th>sentiment</th>\n",
       "    </tr>\n",
       "  </thead>\n",
       "  <tbody>\n",
       "    <tr>\n",
       "      <th>0</th>\n",
       "      <td>one of the other reviewers has mentioned that ...</td>\n",
       "      <td>positive</td>\n",
       "    </tr>\n",
       "    <tr>\n",
       "      <th>1</th>\n",
       "      <td>a wonderful little production. &lt;br /&gt;&lt;br /&gt;the...</td>\n",
       "      <td>positive</td>\n",
       "    </tr>\n",
       "    <tr>\n",
       "      <th>2</th>\n",
       "      <td>i thought this was a wonderful way to spend ti...</td>\n",
       "      <td>positive</td>\n",
       "    </tr>\n",
       "    <tr>\n",
       "      <th>3</th>\n",
       "      <td>basically there's a family where a little boy ...</td>\n",
       "      <td>negative</td>\n",
       "    </tr>\n",
       "    <tr>\n",
       "      <th>4</th>\n",
       "      <td>petter mattei's \"love in the time of money\" is...</td>\n",
       "      <td>positive</td>\n",
       "    </tr>\n",
       "  </tbody>\n",
       "</table>\n",
       "</div>"
      ],
      "text/plain": [
       "                                              review sentiment\n",
       "0  one of the other reviewers has mentioned that ...  positive\n",
       "1  a wonderful little production. <br /><br />the...  positive\n",
       "2  i thought this was a wonderful way to spend ti...  positive\n",
       "3  basically there's a family where a little boy ...  negative\n",
       "4  petter mattei's \"love in the time of money\" is...  positive"
      ]
     },
     "execution_count": 7,
     "metadata": {},
     "output_type": "execute_result"
    }
   ],
   "source": [
    "df.head()"
   ]
  },
  {
   "cell_type": "markdown",
   "id": "8b908cab",
   "metadata": {
    "papermill": {
     "duration": 0.0602,
     "end_time": "2023-05-14T19:31:32.744906",
     "exception": false,
     "start_time": "2023-05-14T19:31:32.684706",
     "status": "completed"
    },
    "tags": []
   },
   "source": [
    "# Remove HTML Tags"
   ]
  },
  {
   "cell_type": "code",
   "execution_count": 8,
   "id": "8934b780",
   "metadata": {
    "execution": {
     "iopub.execute_input": "2023-05-14T19:31:32.871876Z",
     "iopub.status.busy": "2023-05-14T19:31:32.871174Z",
     "iopub.status.idle": "2023-05-14T19:31:32.873926Z",
     "shell.execute_reply": "2023-05-14T19:31:32.873418Z",
     "shell.execute_reply.started": "2023-05-14T19:29:41.362089Z"
    },
    "papermill": {
     "duration": 0.068725,
     "end_time": "2023-05-14T19:31:32.874080",
     "exception": false,
     "start_time": "2023-05-14T19:31:32.805355",
     "status": "completed"
    },
    "tags": []
   },
   "outputs": [],
   "source": [
    "import re\n",
    "def remove_html_tags(text):\n",
    "    pattern = re.compile('<.*?>')\n",
    "    return pattern.sub(r'', text)"
   ]
  },
  {
   "cell_type": "code",
   "execution_count": 9,
   "id": "85a8646b",
   "metadata": {
    "execution": {
     "iopub.execute_input": "2023-05-14T19:31:33.000020Z",
     "iopub.status.busy": "2023-05-14T19:31:32.999285Z",
     "iopub.status.idle": "2023-05-14T19:31:33.001725Z",
     "shell.execute_reply": "2023-05-14T19:31:33.002179Z",
     "shell.execute_reply.started": "2023-05-14T19:29:41.374961Z"
    },
    "papermill": {
     "duration": 0.067977,
     "end_time": "2023-05-14T19:31:33.002357",
     "exception": false,
     "start_time": "2023-05-14T19:31:32.934380",
     "status": "completed"
    },
    "tags": []
   },
   "outputs": [],
   "source": [
    "text = \"<html><body><p> Movie 1</p><p> Actor - Aamir Khan</p><p> Click here to <a href='http://google.com'>download</a></p></body></html>\""
   ]
  },
  {
   "cell_type": "code",
   "execution_count": 10,
   "id": "657bc672",
   "metadata": {
    "execution": {
     "iopub.execute_input": "2023-05-14T19:31:33.129722Z",
     "iopub.status.busy": "2023-05-14T19:31:33.129022Z",
     "iopub.status.idle": "2023-05-14T19:31:33.133192Z",
     "shell.execute_reply": "2023-05-14T19:31:33.132563Z",
     "shell.execute_reply.started": "2023-05-14T19:29:41.385586Z"
    },
    "papermill": {
     "duration": 0.069167,
     "end_time": "2023-05-14T19:31:33.133336",
     "exception": false,
     "start_time": "2023-05-14T19:31:33.064169",
     "status": "completed"
    },
    "tags": []
   },
   "outputs": [
    {
     "data": {
      "text/plain": [
       "' Movie 1 Actor - Aamir Khan Click here to download'"
      ]
     },
     "execution_count": 10,
     "metadata": {},
     "output_type": "execute_result"
    }
   ],
   "source": [
    "remove_html_tags(text)"
   ]
  },
  {
   "cell_type": "code",
   "execution_count": 11,
   "id": "e9f12a85",
   "metadata": {
    "execution": {
     "iopub.execute_input": "2023-05-14T19:31:33.260030Z",
     "iopub.status.busy": "2023-05-14T19:31:33.258833Z",
     "iopub.status.idle": "2023-05-14T19:31:33.447674Z",
     "shell.execute_reply": "2023-05-14T19:31:33.446958Z",
     "shell.execute_reply.started": "2023-05-14T19:29:41.400380Z"
    },
    "papermill": {
     "duration": 0.253742,
     "end_time": "2023-05-14T19:31:33.447824",
     "exception": false,
     "start_time": "2023-05-14T19:31:33.194082",
     "status": "completed"
    },
    "tags": []
   },
   "outputs": [],
   "source": [
    "df['review'] = df['review'].apply(remove_html_tags)"
   ]
  },
  {
   "cell_type": "code",
   "execution_count": 12,
   "id": "f6a29b38",
   "metadata": {
    "execution": {
     "iopub.execute_input": "2023-05-14T19:31:33.579652Z",
     "iopub.status.busy": "2023-05-14T19:31:33.578956Z",
     "iopub.status.idle": "2023-05-14T19:31:33.582449Z",
     "shell.execute_reply": "2023-05-14T19:31:33.581835Z",
     "shell.execute_reply.started": "2023-05-14T19:29:41.645910Z"
    },
    "papermill": {
     "duration": 0.073678,
     "end_time": "2023-05-14T19:31:33.582617",
     "exception": false,
     "start_time": "2023-05-14T19:31:33.508939",
     "status": "completed"
    },
    "tags": []
   },
   "outputs": [
    {
     "data": {
      "text/plain": [
       "0        one of the other reviewers has mentioned that ...\n",
       "1        a wonderful little production. the filming tec...\n",
       "2        i thought this was a wonderful way to spend ti...\n",
       "3        basically there's a family where a little boy ...\n",
       "4        petter mattei's \"love in the time of money\" is...\n",
       "                               ...                        \n",
       "49995    i thought this movie did a down right good job...\n",
       "49996    bad plot, bad dialogue, bad acting, idiotic di...\n",
       "49997    i am a catholic taught in parochial elementary...\n",
       "49998    i'm going to have to disagree with the previou...\n",
       "49999    no one expects the star trek movies to be high...\n",
       "Name: review, Length: 50000, dtype: object"
      ]
     },
     "execution_count": 12,
     "metadata": {},
     "output_type": "execute_result"
    }
   ],
   "source": [
    "df['review']"
   ]
  },
  {
   "cell_type": "markdown",
   "id": "8abc2396",
   "metadata": {
    "papermill": {
     "duration": 0.060534,
     "end_time": "2023-05-14T19:31:33.704415",
     "exception": false,
     "start_time": "2023-05-14T19:31:33.643881",
     "status": "completed"
    },
    "tags": []
   },
   "source": [
    "# Remove URLS"
   ]
  },
  {
   "cell_type": "code",
   "execution_count": 13,
   "id": "28765b4d",
   "metadata": {
    "execution": {
     "iopub.execute_input": "2023-05-14T19:31:33.831258Z",
     "iopub.status.busy": "2023-05-14T19:31:33.830599Z",
     "iopub.status.idle": "2023-05-14T19:31:33.833746Z",
     "shell.execute_reply": "2023-05-14T19:31:33.833194Z",
     "shell.execute_reply.started": "2023-05-14T19:29:41.658144Z"
    },
    "papermill": {
     "duration": 0.068607,
     "end_time": "2023-05-14T19:31:33.833890",
     "exception": false,
     "start_time": "2023-05-14T19:31:33.765283",
     "status": "completed"
    },
    "tags": []
   },
   "outputs": [],
   "source": [
    "def remove_url(text):\n",
    "    pattern = re.compile(r'https?://\\S+|www\\.\\S+')\n",
    "    return pattern.sub(r'', text)"
   ]
  },
  {
   "cell_type": "code",
   "execution_count": 14,
   "id": "0985f130",
   "metadata": {
    "execution": {
     "iopub.execute_input": "2023-05-14T19:31:33.960668Z",
     "iopub.status.busy": "2023-05-14T19:31:33.959961Z",
     "iopub.status.idle": "2023-05-14T19:31:33.963088Z",
     "shell.execute_reply": "2023-05-14T19:31:33.962446Z",
     "shell.execute_reply.started": "2023-05-14T19:29:41.670204Z"
    },
    "papermill": {
     "duration": 0.068434,
     "end_time": "2023-05-14T19:31:33.963231",
     "exception": false,
     "start_time": "2023-05-14T19:31:33.894797",
     "status": "completed"
    },
    "tags": []
   },
   "outputs": [],
   "source": [
    "text1 = 'Check out my notebook https://www.kaggle.com/campusx/notebook8223fc1abb'\n",
    "text2 = 'Check out my notebook http://www.kaggle.com/campusx/notebook8223fc1abb'\n",
    "text3 = 'Google search here www.google.com'\n",
    "text4 = 'For notebook click https://www.kaggle.com/campusx/notebook8223fc1abb to search check www.google.com'"
   ]
  },
  {
   "cell_type": "code",
   "execution_count": 15,
   "id": "39f2b486",
   "metadata": {
    "execution": {
     "iopub.execute_input": "2023-05-14T19:31:34.089789Z",
     "iopub.status.busy": "2023-05-14T19:31:34.089102Z",
     "iopub.status.idle": "2023-05-14T19:31:34.092627Z",
     "shell.execute_reply": "2023-05-14T19:31:34.091916Z",
     "shell.execute_reply.started": "2023-05-14T19:29:41.686381Z"
    },
    "papermill": {
     "duration": 0.068804,
     "end_time": "2023-05-14T19:31:34.092774",
     "exception": false,
     "start_time": "2023-05-14T19:31:34.023970",
     "status": "completed"
    },
    "tags": []
   },
   "outputs": [
    {
     "data": {
      "text/plain": [
       "'Check out my notebook '"
      ]
     },
     "execution_count": 15,
     "metadata": {},
     "output_type": "execute_result"
    }
   ],
   "source": [
    "remove_url(text1)"
   ]
  },
  {
   "cell_type": "markdown",
   "id": "67f28481",
   "metadata": {
    "papermill": {
     "duration": 0.060718,
     "end_time": "2023-05-14T19:31:34.214663",
     "exception": false,
     "start_time": "2023-05-14T19:31:34.153945",
     "status": "completed"
    },
    "tags": []
   },
   "source": [
    "# Remove Punctuation"
   ]
  },
  {
   "cell_type": "code",
   "execution_count": 16,
   "id": "985c4045",
   "metadata": {
    "execution": {
     "iopub.execute_input": "2023-05-14T19:31:34.342697Z",
     "iopub.status.busy": "2023-05-14T19:31:34.342013Z",
     "iopub.status.idle": "2023-05-14T19:31:34.345656Z",
     "shell.execute_reply": "2023-05-14T19:31:34.345137Z",
     "shell.execute_reply.started": "2023-05-14T19:29:41.696132Z"
    },
    "papermill": {
     "duration": 0.069793,
     "end_time": "2023-05-14T19:31:34.345805",
     "exception": false,
     "start_time": "2023-05-14T19:31:34.276012",
     "status": "completed"
    },
    "tags": []
   },
   "outputs": [
    {
     "data": {
      "text/plain": [
       "'!\"#$%&\\'()*+,-./:;<=>?@[\\\\]^_`{|}~'"
      ]
     },
     "execution_count": 16,
     "metadata": {},
     "output_type": "execute_result"
    }
   ],
   "source": [
    "import string,time\n",
    "string.punctuation"
   ]
  },
  {
   "cell_type": "code",
   "execution_count": 17,
   "id": "f865d858",
   "metadata": {
    "execution": {
     "iopub.execute_input": "2023-05-14T19:31:34.473392Z",
     "iopub.status.busy": "2023-05-14T19:31:34.472749Z",
     "iopub.status.idle": "2023-05-14T19:31:34.475763Z",
     "shell.execute_reply": "2023-05-14T19:31:34.475118Z",
     "shell.execute_reply.started": "2023-05-14T19:29:41.707721Z"
    },
    "papermill": {
     "duration": 0.068785,
     "end_time": "2023-05-14T19:31:34.475904",
     "exception": false,
     "start_time": "2023-05-14T19:31:34.407119",
     "status": "completed"
    },
    "tags": []
   },
   "outputs": [],
   "source": [
    "exclude = string.punctuation"
   ]
  },
  {
   "cell_type": "code",
   "execution_count": 18,
   "id": "33da4d1b",
   "metadata": {
    "execution": {
     "iopub.execute_input": "2023-05-14T19:31:34.603082Z",
     "iopub.status.busy": "2023-05-14T19:31:34.602421Z",
     "iopub.status.idle": "2023-05-14T19:31:34.605606Z",
     "shell.execute_reply": "2023-05-14T19:31:34.605044Z",
     "shell.execute_reply.started": "2023-05-14T19:29:41.720510Z"
    },
    "papermill": {
     "duration": 0.068671,
     "end_time": "2023-05-14T19:31:34.605752",
     "exception": false,
     "start_time": "2023-05-14T19:31:34.537081",
     "status": "completed"
    },
    "tags": []
   },
   "outputs": [],
   "source": [
    "def remove_punc(text):\n",
    "    for char in exclude:\n",
    "        text = text.replace(char,'')\n",
    "    return text\n",
    "        "
   ]
  },
  {
   "cell_type": "code",
   "execution_count": 19,
   "id": "144ff594",
   "metadata": {
    "execution": {
     "iopub.execute_input": "2023-05-14T19:31:34.734405Z",
     "iopub.status.busy": "2023-05-14T19:31:34.733496Z",
     "iopub.status.idle": "2023-05-14T19:31:34.735608Z",
     "shell.execute_reply": "2023-05-14T19:31:34.736106Z",
     "shell.execute_reply.started": "2023-05-14T19:29:41.731879Z"
    },
    "papermill": {
     "duration": 0.069065,
     "end_time": "2023-05-14T19:31:34.736367",
     "exception": false,
     "start_time": "2023-05-14T19:31:34.667302",
     "status": "completed"
    },
    "tags": []
   },
   "outputs": [],
   "source": [
    "text = 'string. With. Punctuation?'"
   ]
  },
  {
   "cell_type": "code",
   "execution_count": 20,
   "id": "c3863064",
   "metadata": {
    "execution": {
     "iopub.execute_input": "2023-05-14T19:31:34.867883Z",
     "iopub.status.busy": "2023-05-14T19:31:34.867132Z",
     "iopub.status.idle": "2023-05-14T19:31:34.869829Z",
     "shell.execute_reply": "2023-05-14T19:31:34.870346Z",
     "shell.execute_reply.started": "2023-05-14T19:29:41.744660Z"
    },
    "papermill": {
     "duration": 0.071643,
     "end_time": "2023-05-14T19:31:34.870548",
     "exception": false,
     "start_time": "2023-05-14T19:31:34.798905",
     "status": "completed"
    },
    "tags": []
   },
   "outputs": [
    {
     "name": "stdout",
     "output_type": "stream",
     "text": [
      "string With Punctuation\n",
      "31.185150146484375\n"
     ]
    }
   ],
   "source": [
    "start = time.time()\n",
    "print(remove_punc(text))\n",
    "time1 = time.time() - start\n",
    "print(time1*50000)"
   ]
  },
  {
   "cell_type": "code",
   "execution_count": 21,
   "id": "55ac3905",
   "metadata": {
    "execution": {
     "iopub.execute_input": "2023-05-14T19:31:35.003669Z",
     "iopub.status.busy": "2023-05-14T19:31:35.002816Z",
     "iopub.status.idle": "2023-05-14T19:31:35.005278Z",
     "shell.execute_reply": "2023-05-14T19:31:35.004642Z",
     "shell.execute_reply.started": "2023-05-14T19:29:41.756985Z"
    },
    "papermill": {
     "duration": 0.071322,
     "end_time": "2023-05-14T19:31:35.005442",
     "exception": false,
     "start_time": "2023-05-14T19:31:34.934120",
     "status": "completed"
    },
    "tags": []
   },
   "outputs": [],
   "source": [
    "def remove_punc1(text):\n",
    "    return text.translate(str.maketrans('', '', exclude))"
   ]
  },
  {
   "cell_type": "code",
   "execution_count": 22,
   "id": "3be59f13",
   "metadata": {
    "execution": {
     "iopub.execute_input": "2023-05-14T19:31:35.137550Z",
     "iopub.status.busy": "2023-05-14T19:31:35.136826Z",
     "iopub.status.idle": "2023-05-14T19:31:35.139553Z",
     "shell.execute_reply": "2023-05-14T19:31:35.140060Z",
     "shell.execute_reply.started": "2023-05-14T19:29:41.769099Z"
    },
    "papermill": {
     "duration": 0.070183,
     "end_time": "2023-05-14T19:31:35.140231",
     "exception": false,
     "start_time": "2023-05-14T19:31:35.070048",
     "status": "completed"
    },
    "tags": []
   },
   "outputs": [
    {
     "name": "stdout",
     "output_type": "stream",
     "text": [
      "4.5299530029296875\n"
     ]
    }
   ],
   "source": [
    "start = time.time()\n",
    "remove_punc1(text)\n",
    "time2 = time.time() - start\n",
    "print(time2*50000)"
   ]
  },
  {
   "cell_type": "code",
   "execution_count": 23,
   "id": "fafe5fac",
   "metadata": {
    "execution": {
     "iopub.execute_input": "2023-05-14T19:31:35.270939Z",
     "iopub.status.busy": "2023-05-14T19:31:35.270232Z",
     "iopub.status.idle": "2023-05-14T19:31:35.274495Z",
     "shell.execute_reply": "2023-05-14T19:31:35.273948Z",
     "shell.execute_reply.started": "2023-05-14T19:29:41.780262Z"
    },
    "papermill": {
     "duration": 0.071447,
     "end_time": "2023-05-14T19:31:35.274643",
     "exception": false,
     "start_time": "2023-05-14T19:31:35.203196",
     "status": "completed"
    },
    "tags": []
   },
   "outputs": [
    {
     "data": {
      "text/plain": [
       "6.88421052631579"
      ]
     },
     "execution_count": 23,
     "metadata": {},
     "output_type": "execute_result"
    }
   ],
   "source": [
    "time1/time2"
   ]
  },
  {
   "cell_type": "code",
   "execution_count": 24,
   "id": "2fd75a36",
   "metadata": {
    "execution": {
     "iopub.execute_input": "2023-05-14T19:31:35.404419Z",
     "iopub.status.busy": "2023-05-14T19:31:35.403706Z",
     "iopub.status.idle": "2023-05-14T19:31:35.408573Z",
     "shell.execute_reply": "2023-05-14T19:31:35.409091Z",
     "shell.execute_reply.started": "2023-05-14T19:29:41.794550Z"
    },
    "papermill": {
     "duration": 0.071619,
     "end_time": "2023-05-14T19:31:35.409267",
     "exception": false,
     "start_time": "2023-05-14T19:31:35.337648",
     "status": "completed"
    },
    "tags": []
   },
   "outputs": [
    {
     "data": {
      "text/plain": [
       "'probably my all-time favorite movie, a story of selflessness, sacrifice and dedication to a noble cause, but it\\'s not preachy or boring. it just never gets old, despite my having seen it some 15 or more times in the last 25 years. paul lukas\\' performance brings tears to my eyes, and bette davis, in one of her very few truly sympathetic roles, is a delight. the kids are, as grandma says, more like \"dressed-up midgets\" than children, but that only makes them more fun to watch. and the mother\\'s slow awakening to what\\'s happening in the world and under her own roof is believable and startling. if i had a dozen thumbs, they\\'d all be \"up\" for this movie.'"
      ]
     },
     "execution_count": 24,
     "metadata": {},
     "output_type": "execute_result"
    }
   ],
   "source": [
    "df['review'][5]"
   ]
  },
  {
   "cell_type": "code",
   "execution_count": 25,
   "id": "b1f51a21",
   "metadata": {
    "execution": {
     "iopub.execute_input": "2023-05-14T19:31:35.541041Z",
     "iopub.status.busy": "2023-05-14T19:31:35.540264Z",
     "iopub.status.idle": "2023-05-14T19:31:35.546181Z",
     "shell.execute_reply": "2023-05-14T19:31:35.545676Z",
     "shell.execute_reply.started": "2023-05-14T19:29:41.806266Z"
    },
    "papermill": {
     "duration": 0.072909,
     "end_time": "2023-05-14T19:31:35.546327",
     "exception": false,
     "start_time": "2023-05-14T19:31:35.473418",
     "status": "completed"
    },
    "tags": []
   },
   "outputs": [
    {
     "data": {
      "text/plain": [
       "'probably my alltime favorite movie a story of selflessness sacrifice and dedication to a noble cause but its not preachy or boring it just never gets old despite my having seen it some 15 or more times in the last 25 years paul lukas performance brings tears to my eyes and bette davis in one of her very few truly sympathetic roles is a delight the kids are as grandma says more like dressedup midgets than children but that only makes them more fun to watch and the mothers slow awakening to whats happening in the world and under her own roof is believable and startling if i had a dozen thumbs theyd all be up for this movie'"
      ]
     },
     "execution_count": 25,
     "metadata": {},
     "output_type": "execute_result"
    }
   ],
   "source": [
    "remove_punc1(df['review'][5])"
   ]
  },
  {
   "cell_type": "markdown",
   "id": "91907f22",
   "metadata": {
    "papermill": {
     "duration": 0.063412,
     "end_time": "2023-05-14T19:31:35.673184",
     "exception": false,
     "start_time": "2023-05-14T19:31:35.609772",
     "status": "completed"
    },
    "tags": []
   },
   "source": [
    "# Chat Words Treatment "
   ]
  },
  {
   "cell_type": "code",
   "execution_count": 26,
   "id": "d99cef51",
   "metadata": {
    "execution": {
     "iopub.execute_input": "2023-05-14T19:31:35.805717Z",
     "iopub.status.busy": "2023-05-14T19:31:35.804656Z",
     "iopub.status.idle": "2023-05-14T19:31:35.809614Z",
     "shell.execute_reply": "2023-05-14T19:31:35.810228Z",
     "shell.execute_reply.started": "2023-05-14T19:29:41.819611Z"
    },
    "papermill": {
     "duration": 0.073456,
     "end_time": "2023-05-14T19:31:35.810412",
     "exception": false,
     "start_time": "2023-05-14T19:31:35.736956",
     "status": "completed"
    },
    "tags": []
   },
   "outputs": [],
   "source": [
    "chat_words_str = \"\"\"\n",
    "AFAIK=As Far As I Know\n",
    "AFK=Away From Keyboard\n",
    "ASAP=As Soon As Possible\n",
    "ATK=At The Keyboard\n",
    "ATM=At The Moment\n",
    "A3=Anytime, Anywhere, Anyplace\n",
    "BAK=Back At Keyboard\n",
    "BBL=Be Back Later\n",
    "BBS=Be Back Soon\n",
    "BFN=Bye For Now\n",
    "B4N=Bye For Now\n",
    "BRB=Be Right Back\n",
    "BRT=Be Right There\n",
    "BTW=By The Way\n",
    "B4=Before\n",
    "B4N=Bye For Now\n",
    "CU=See You\n",
    "CUL8R=See You Later\n",
    "CYA=See You\n",
    "FAQ=Frequently Asked Questions\n",
    "FC=Fingers Crossed\n",
    "FWIW=For What It's Worth\n",
    "FYI=For Your Information\n",
    "GAL=Get A Life\n",
    "GG=Good Game\n",
    "GN=Good Night\n",
    "GMTA=Great Minds Think Alike\n",
    "GR8=Great!\n",
    "G9=Genius\n",
    "IC=I See\n",
    "ICQ=I Seek you (also a chat program)\n",
    "ILU=ILU: I Love You\n",
    "IMHO=In My Honest/Humble Opinion\n",
    "IMO=In My Opinion\n",
    "IOW=In Other Words\n",
    "IRL=In Real Life\n",
    "KISS=Keep It Simple, Stupid\n",
    "LDR=Long Distance Relationship\n",
    "LMAO=Laugh My A.. Off\n",
    "LOL=Laughing Out Loud\n",
    "LTNS=Long Time No See\n",
    "L8R=Later\n",
    "MTE=My Thoughts Exactly\n",
    "M8=Mate\n",
    "NRN=No Reply Necessary\n",
    "OIC=Oh I See\n",
    "PITA=Pain In The A..\n",
    "PRT=Party\n",
    "PRW=Parents Are Watching\n",
    "ROFL=Rolling On The Floor Laughing\n",
    "ROFLOL=Rolling On The Floor Laughing Out Loud\n",
    "ROTFLMAO=Rolling On The Floor Laughing My A.. Off\n",
    "SK8=Skate\n",
    "STATS=Your sex and age\n",
    "ASL=Age, Sex, Location\n",
    "THX=Thank You\n",
    "TTFN=Ta-Ta For Now!\n",
    "TTYL=Talk To You Later\n",
    "U=You\n",
    "U2=You Too\n",
    "U4E=Yours For Ever\n",
    "WB=Welcome Back\n",
    "WTF=What The F...\n",
    "WTG=Way To Go!\n",
    "WUF=Where Are You From?\n",
    "W8=Wait...\n",
    "7K=Sick:-D Laugher\n",
    "\"\"\""
   ]
  },
  {
   "cell_type": "code",
   "execution_count": 27,
   "id": "670e6441",
   "metadata": {
    "execution": {
     "iopub.execute_input": "2023-05-14T19:31:35.942343Z",
     "iopub.status.busy": "2023-05-14T19:31:35.941328Z",
     "iopub.status.idle": "2023-05-14T19:31:35.946597Z",
     "shell.execute_reply": "2023-05-14T19:31:35.947203Z",
     "shell.execute_reply.started": "2023-05-14T19:29:41.830836Z"
    },
    "papermill": {
     "duration": 0.072287,
     "end_time": "2023-05-14T19:31:35.947376",
     "exception": false,
     "start_time": "2023-05-14T19:31:35.875089",
     "status": "completed"
    },
    "tags": []
   },
   "outputs": [],
   "source": [
    "chat_words_list = []\n",
    "chat_words_map_dict = {}\n",
    "for line in chat_words_str.split(\"\\n\"):\n",
    "    if line != \"\":\n",
    "        cw = line.split(\"=\")[0]\n",
    "        cw_expanded = line.split(\"=\")[1]\n",
    "        chat_words_list.append(cw)\n",
    "        chat_words_map_dict[cw] = cw_expanded\n",
    "chat_words_list = set(chat_words_list)"
   ]
  },
  {
   "cell_type": "code",
   "execution_count": 28,
   "id": "50b0a8b7",
   "metadata": {
    "execution": {
     "iopub.execute_input": "2023-05-14T19:31:36.077432Z",
     "iopub.status.busy": "2023-05-14T19:31:36.076407Z",
     "iopub.status.idle": "2023-05-14T19:31:36.081367Z",
     "shell.execute_reply": "2023-05-14T19:31:36.082036Z",
     "shell.execute_reply.started": "2023-05-14T19:29:41.852452Z"
    },
    "papermill": {
     "duration": 0.072006,
     "end_time": "2023-05-14T19:31:36.082213",
     "exception": false,
     "start_time": "2023-05-14T19:31:36.010207",
     "status": "completed"
    },
    "tags": []
   },
   "outputs": [],
   "source": [
    "def chat_words_conversion(text):\n",
    "    new_text = []\n",
    "    for w in text.split():\n",
    "        if w.upper() in chat_words_list:\n",
    "            new_text.append(chat_words_map_dict[w.upper()])\n",
    "        else:\n",
    "            new_text.append(w)\n",
    "    return \" \".join(new_text)"
   ]
  },
  {
   "cell_type": "code",
   "execution_count": 29,
   "id": "7d4eb65b",
   "metadata": {
    "execution": {
     "iopub.execute_input": "2023-05-14T19:31:36.213055Z",
     "iopub.status.busy": "2023-05-14T19:31:36.212024Z",
     "iopub.status.idle": "2023-05-14T19:31:36.217303Z",
     "shell.execute_reply": "2023-05-14T19:31:36.217979Z",
     "shell.execute_reply.started": "2023-05-14T19:29:41.862775Z"
    },
    "papermill": {
     "duration": 0.072325,
     "end_time": "2023-05-14T19:31:36.218157",
     "exception": false,
     "start_time": "2023-05-14T19:31:36.145832",
     "status": "completed"
    },
    "tags": []
   },
   "outputs": [
    {
     "data": {
      "text/plain": [
       "'In My Opinion this is awesome'"
      ]
     },
     "execution_count": 29,
     "metadata": {},
     "output_type": "execute_result"
    }
   ],
   "source": [
    "chat_words_conversion(\"imo this is awesome\")"
   ]
  },
  {
   "cell_type": "code",
   "execution_count": 30,
   "id": "80d1b1d5",
   "metadata": {
    "execution": {
     "iopub.execute_input": "2023-05-14T19:31:36.348688Z",
     "iopub.status.busy": "2023-05-14T19:31:36.347706Z",
     "iopub.status.idle": "2023-05-14T19:31:36.353170Z",
     "shell.execute_reply": "2023-05-14T19:31:36.353804Z",
     "shell.execute_reply.started": "2023-05-14T19:29:41.878011Z"
    },
    "papermill": {
     "duration": 0.072573,
     "end_time": "2023-05-14T19:31:36.353982",
     "exception": false,
     "start_time": "2023-05-14T19:31:36.281409",
     "status": "completed"
    },
    "tags": []
   },
   "outputs": [
    {
     "data": {
      "text/plain": [
       "'In My Honest/Humble Opinion he is the best'"
      ]
     },
     "execution_count": 30,
     "metadata": {},
     "output_type": "execute_result"
    }
   ],
   "source": [
    "chat_words_conversion('IMHO he is the best')"
   ]
  },
  {
   "cell_type": "code",
   "execution_count": 31,
   "id": "8ea20995",
   "metadata": {
    "execution": {
     "iopub.execute_input": "2023-05-14T19:31:36.486011Z",
     "iopub.status.busy": "2023-05-14T19:31:36.485030Z",
     "iopub.status.idle": "2023-05-14T19:31:36.490697Z",
     "shell.execute_reply": "2023-05-14T19:31:36.491163Z",
     "shell.execute_reply.started": "2023-05-14T19:29:41.895583Z"
    },
    "papermill": {
     "duration": 0.073698,
     "end_time": "2023-05-14T19:31:36.491345",
     "exception": false,
     "start_time": "2023-05-14T19:31:36.417647",
     "status": "completed"
    },
    "tags": []
   },
   "outputs": [
    {
     "data": {
      "text/plain": [
       "'For Your Information delhi is the capital of india'"
      ]
     },
     "execution_count": 31,
     "metadata": {},
     "output_type": "execute_result"
    }
   ],
   "source": [
    "chat_words_conversion('FYI delhi is the capital of india')"
   ]
  },
  {
   "cell_type": "markdown",
   "id": "e8efcb16",
   "metadata": {
    "papermill": {
     "duration": 0.064034,
     "end_time": "2023-05-14T19:31:36.619661",
     "exception": false,
     "start_time": "2023-05-14T19:31:36.555627",
     "status": "completed"
    },
    "tags": []
   },
   "source": [
    "# Spelling Correction"
   ]
  },
  {
   "cell_type": "code",
   "execution_count": 32,
   "id": "d8320029",
   "metadata": {
    "execution": {
     "iopub.execute_input": "2023-05-14T19:31:36.753326Z",
     "iopub.status.busy": "2023-05-14T19:31:36.752632Z",
     "iopub.status.idle": "2023-05-14T19:31:38.098751Z",
     "shell.execute_reply": "2023-05-14T19:31:38.097931Z",
     "shell.execute_reply.started": "2023-05-14T19:29:41.907528Z"
    },
    "papermill": {
     "duration": 1.414919,
     "end_time": "2023-05-14T19:31:38.098932",
     "exception": false,
     "start_time": "2023-05-14T19:31:36.684013",
     "status": "completed"
    },
    "tags": []
   },
   "outputs": [],
   "source": [
    "from textblob import TextBlob"
   ]
  },
  {
   "cell_type": "code",
   "execution_count": 33,
   "id": "3ec84aa3",
   "metadata": {
    "execution": {
     "iopub.execute_input": "2023-05-14T19:31:38.232155Z",
     "iopub.status.busy": "2023-05-14T19:31:38.231416Z",
     "iopub.status.idle": "2023-05-14T19:31:38.305375Z",
     "shell.execute_reply": "2023-05-14T19:31:38.304833Z",
     "shell.execute_reply.started": "2023-05-14T19:29:43.753256Z"
    },
    "papermill": {
     "duration": 0.141042,
     "end_time": "2023-05-14T19:31:38.305542",
     "exception": false,
     "start_time": "2023-05-14T19:31:38.164500",
     "status": "completed"
    },
    "tags": []
   },
   "outputs": [
    {
     "data": {
      "text/plain": [
       "'certain conditions during several generations are modified in the same manner.'"
      ]
     },
     "execution_count": 33,
     "metadata": {},
     "output_type": "execute_result"
    }
   ],
   "source": [
    "incorrect_text = 'ceertain conditionas duriing seveal ggenerations aree moodified in the saame maner.'\n",
    "\n",
    "textBlb = TextBlob(incorrect_text)\n",
    "\n",
    "textBlb.correct().string"
   ]
  },
  {
   "cell_type": "markdown",
   "id": "b50cbe11",
   "metadata": {
    "papermill": {
     "duration": 0.064409,
     "end_time": "2023-05-14T19:31:38.434788",
     "exception": false,
     "start_time": "2023-05-14T19:31:38.370379",
     "status": "completed"
    },
    "tags": []
   },
   "source": [
    "# Remove Stopwords "
   ]
  },
  {
   "cell_type": "code",
   "execution_count": 34,
   "id": "4a74f1c5",
   "metadata": {
    "execution": {
     "iopub.execute_input": "2023-05-14T19:31:38.570888Z",
     "iopub.status.busy": "2023-05-14T19:31:38.570138Z",
     "iopub.status.idle": "2023-05-14T19:31:38.573007Z",
     "shell.execute_reply": "2023-05-14T19:31:38.572410Z",
     "shell.execute_reply.started": "2023-05-14T19:29:43.858991Z"
    },
    "papermill": {
     "duration": 0.072481,
     "end_time": "2023-05-14T19:31:38.573162",
     "exception": false,
     "start_time": "2023-05-14T19:31:38.500681",
     "status": "completed"
    },
    "tags": []
   },
   "outputs": [],
   "source": [
    "from nltk.corpus import stopwords"
   ]
  },
  {
   "cell_type": "code",
   "execution_count": 35,
   "id": "1a9de373",
   "metadata": {
    "execution": {
     "iopub.execute_input": "2023-05-14T19:31:38.707264Z",
     "iopub.status.busy": "2023-05-14T19:31:38.706253Z",
     "iopub.status.idle": "2023-05-14T19:31:38.719638Z",
     "shell.execute_reply": "2023-05-14T19:31:38.720122Z",
     "shell.execute_reply.started": "2023-05-14T19:29:43.865177Z"
    },
    "papermill": {
     "duration": 0.082251,
     "end_time": "2023-05-14T19:31:38.720309",
     "exception": false,
     "start_time": "2023-05-14T19:31:38.638058",
     "status": "completed"
    },
    "tags": []
   },
   "outputs": [
    {
     "data": {
      "text/plain": [
       "['i',\n",
       " 'me',\n",
       " 'my',\n",
       " 'myself',\n",
       " 'we',\n",
       " 'our',\n",
       " 'ours',\n",
       " 'ourselves',\n",
       " 'you',\n",
       " \"you're\",\n",
       " \"you've\",\n",
       " \"you'll\",\n",
       " \"you'd\",\n",
       " 'your',\n",
       " 'yours',\n",
       " 'yourself',\n",
       " 'yourselves',\n",
       " 'he',\n",
       " 'him',\n",
       " 'his',\n",
       " 'himself',\n",
       " 'she',\n",
       " \"she's\",\n",
       " 'her',\n",
       " 'hers',\n",
       " 'herself',\n",
       " 'it',\n",
       " \"it's\",\n",
       " 'its',\n",
       " 'itself',\n",
       " 'they',\n",
       " 'them',\n",
       " 'their',\n",
       " 'theirs',\n",
       " 'themselves',\n",
       " 'what',\n",
       " 'which',\n",
       " 'who',\n",
       " 'whom',\n",
       " 'this',\n",
       " 'that',\n",
       " \"that'll\",\n",
       " 'these',\n",
       " 'those',\n",
       " 'am',\n",
       " 'is',\n",
       " 'are',\n",
       " 'was',\n",
       " 'were',\n",
       " 'be',\n",
       " 'been',\n",
       " 'being',\n",
       " 'have',\n",
       " 'has',\n",
       " 'had',\n",
       " 'having',\n",
       " 'do',\n",
       " 'does',\n",
       " 'did',\n",
       " 'doing',\n",
       " 'a',\n",
       " 'an',\n",
       " 'the',\n",
       " 'and',\n",
       " 'but',\n",
       " 'if',\n",
       " 'or',\n",
       " 'because',\n",
       " 'as',\n",
       " 'until',\n",
       " 'while',\n",
       " 'of',\n",
       " 'at',\n",
       " 'by',\n",
       " 'for',\n",
       " 'with',\n",
       " 'about',\n",
       " 'against',\n",
       " 'between',\n",
       " 'into',\n",
       " 'through',\n",
       " 'during',\n",
       " 'before',\n",
       " 'after',\n",
       " 'above',\n",
       " 'below',\n",
       " 'to',\n",
       " 'from',\n",
       " 'up',\n",
       " 'down',\n",
       " 'in',\n",
       " 'out',\n",
       " 'on',\n",
       " 'off',\n",
       " 'over',\n",
       " 'under',\n",
       " 'again',\n",
       " 'further',\n",
       " 'then',\n",
       " 'once',\n",
       " 'here',\n",
       " 'there',\n",
       " 'when',\n",
       " 'where',\n",
       " 'why',\n",
       " 'how',\n",
       " 'all',\n",
       " 'any',\n",
       " 'both',\n",
       " 'each',\n",
       " 'few',\n",
       " 'more',\n",
       " 'most',\n",
       " 'other',\n",
       " 'some',\n",
       " 'such',\n",
       " 'no',\n",
       " 'nor',\n",
       " 'not',\n",
       " 'only',\n",
       " 'own',\n",
       " 'same',\n",
       " 'so',\n",
       " 'than',\n",
       " 'too',\n",
       " 'very',\n",
       " 's',\n",
       " 't',\n",
       " 'can',\n",
       " 'will',\n",
       " 'just',\n",
       " 'don',\n",
       " \"don't\",\n",
       " 'should',\n",
       " \"should've\",\n",
       " 'now',\n",
       " 'd',\n",
       " 'll',\n",
       " 'm',\n",
       " 'o',\n",
       " 're',\n",
       " 've',\n",
       " 'y',\n",
       " 'ain',\n",
       " 'aren',\n",
       " \"aren't\",\n",
       " 'couldn',\n",
       " \"couldn't\",\n",
       " 'didn',\n",
       " \"didn't\",\n",
       " 'doesn',\n",
       " \"doesn't\",\n",
       " 'hadn',\n",
       " \"hadn't\",\n",
       " 'hasn',\n",
       " \"hasn't\",\n",
       " 'haven',\n",
       " \"haven't\",\n",
       " 'isn',\n",
       " \"isn't\",\n",
       " 'ma',\n",
       " 'mightn',\n",
       " \"mightn't\",\n",
       " 'mustn',\n",
       " \"mustn't\",\n",
       " 'needn',\n",
       " \"needn't\",\n",
       " 'shan',\n",
       " \"shan't\",\n",
       " 'shouldn',\n",
       " \"shouldn't\",\n",
       " 'wasn',\n",
       " \"wasn't\",\n",
       " 'weren',\n",
       " \"weren't\",\n",
       " 'won',\n",
       " \"won't\",\n",
       " 'wouldn',\n",
       " \"wouldn't\"]"
      ]
     },
     "execution_count": 35,
     "metadata": {},
     "output_type": "execute_result"
    }
   ],
   "source": [
    "stopwords.words('english')"
   ]
  },
  {
   "cell_type": "code",
   "execution_count": 36,
   "id": "5c60f1fe",
   "metadata": {
    "execution": {
     "iopub.execute_input": "2023-05-14T19:31:38.858215Z",
     "iopub.status.busy": "2023-05-14T19:31:38.857192Z",
     "iopub.status.idle": "2023-05-14T19:31:38.859527Z",
     "shell.execute_reply": "2023-05-14T19:31:38.860048Z",
     "shell.execute_reply.started": "2023-05-14T19:29:43.890085Z"
    },
    "papermill": {
     "duration": 0.073986,
     "end_time": "2023-05-14T19:31:38.860228",
     "exception": false,
     "start_time": "2023-05-14T19:31:38.786242",
     "status": "completed"
    },
    "tags": []
   },
   "outputs": [],
   "source": [
    "def remove_stopwords(text):\n",
    "    new_text = []\n",
    "    \n",
    "    for word in text.split():\n",
    "        if word in stopwords.words('english'):\n",
    "            new_text.append('')\n",
    "        else:\n",
    "            new_text.append(word)\n",
    "    x = new_text[:]\n",
    "    new_text.clear()\n",
    "    return \" \".join(x)"
   ]
  },
  {
   "cell_type": "code",
   "execution_count": 37,
   "id": "62a182c2",
   "metadata": {
    "execution": {
     "iopub.execute_input": "2023-05-14T19:31:38.995352Z",
     "iopub.status.busy": "2023-05-14T19:31:38.994316Z",
     "iopub.status.idle": "2023-05-14T19:31:39.006920Z",
     "shell.execute_reply": "2023-05-14T19:31:39.006220Z",
     "shell.execute_reply.started": "2023-05-14T19:29:43.899604Z"
    },
    "papermill": {
     "duration": 0.08138,
     "end_time": "2023-05-14T19:31:39.007075",
     "exception": false,
     "start_time": "2023-05-14T19:31:38.925695",
     "status": "completed"
    },
    "tags": []
   },
   "outputs": [
    {
     "data": {
      "text/plain": [
       "'probably  all-time favorite movie,  story  selflessness, sacrifice  dedication   noble cause,    preachy  boring.   never gets old, despite   seen   15   times'"
      ]
     },
     "execution_count": 37,
     "metadata": {},
     "output_type": "execute_result"
    }
   ],
   "source": [
    "remove_stopwords('probably my all-time favorite movie, a story of selflessness, sacrifice and dedication to a noble cause, but it\\'s not preachy or boring. it just never gets old, despite my having seen it some 15 or more times')"
   ]
  },
  {
   "cell_type": "code",
   "execution_count": 38,
   "id": "899722d1",
   "metadata": {
    "execution": {
     "iopub.execute_input": "2023-05-14T19:31:39.148059Z",
     "iopub.status.busy": "2023-05-14T19:31:39.147101Z",
     "iopub.status.idle": "2023-05-14T19:31:39.151188Z",
     "shell.execute_reply": "2023-05-14T19:31:39.150672Z",
     "shell.execute_reply.started": "2023-05-14T19:29:43.919256Z"
    },
    "papermill": {
     "duration": 0.078143,
     "end_time": "2023-05-14T19:31:39.151340",
     "exception": false,
     "start_time": "2023-05-14T19:31:39.073197",
     "status": "completed"
    },
    "tags": []
   },
   "outputs": [
    {
     "data": {
      "text/html": [
       "<div>\n",
       "<style scoped>\n",
       "    .dataframe tbody tr th:only-of-type {\n",
       "        vertical-align: middle;\n",
       "    }\n",
       "\n",
       "    .dataframe tbody tr th {\n",
       "        vertical-align: top;\n",
       "    }\n",
       "\n",
       "    .dataframe thead th {\n",
       "        text-align: right;\n",
       "    }\n",
       "</style>\n",
       "<table border=\"1\" class=\"dataframe\">\n",
       "  <thead>\n",
       "    <tr style=\"text-align: right;\">\n",
       "      <th></th>\n",
       "      <th>review</th>\n",
       "      <th>sentiment</th>\n",
       "    </tr>\n",
       "  </thead>\n",
       "  <tbody>\n",
       "    <tr>\n",
       "      <th>0</th>\n",
       "      <td>one of the other reviewers has mentioned that ...</td>\n",
       "      <td>positive</td>\n",
       "    </tr>\n",
       "    <tr>\n",
       "      <th>1</th>\n",
       "      <td>a wonderful little production. the filming tec...</td>\n",
       "      <td>positive</td>\n",
       "    </tr>\n",
       "    <tr>\n",
       "      <th>2</th>\n",
       "      <td>i thought this was a wonderful way to spend ti...</td>\n",
       "      <td>positive</td>\n",
       "    </tr>\n",
       "    <tr>\n",
       "      <th>3</th>\n",
       "      <td>basically there's a family where a little boy ...</td>\n",
       "      <td>negative</td>\n",
       "    </tr>\n",
       "    <tr>\n",
       "      <th>4</th>\n",
       "      <td>petter mattei's \"love in the time of money\" is...</td>\n",
       "      <td>positive</td>\n",
       "    </tr>\n",
       "  </tbody>\n",
       "</table>\n",
       "</div>"
      ],
      "text/plain": [
       "                                              review sentiment\n",
       "0  one of the other reviewers has mentioned that ...  positive\n",
       "1  a wonderful little production. the filming tec...  positive\n",
       "2  i thought this was a wonderful way to spend ti...  positive\n",
       "3  basically there's a family where a little boy ...  negative\n",
       "4  petter mattei's \"love in the time of money\" is...  positive"
      ]
     },
     "execution_count": 38,
     "metadata": {},
     "output_type": "execute_result"
    }
   ],
   "source": [
    "df.head()"
   ]
  },
  {
   "cell_type": "code",
   "execution_count": 39,
   "id": "c0f64201",
   "metadata": {
    "execution": {
     "iopub.execute_input": "2023-05-14T19:31:39.289372Z",
     "iopub.status.busy": "2023-05-14T19:31:39.288284Z",
     "iopub.status.idle": "2023-05-14T19:31:39.290247Z",
     "shell.execute_reply": "2023-05-14T19:31:39.290866Z",
     "shell.execute_reply.started": "2023-05-14T19:29:43.934208Z"
    },
    "papermill": {
     "duration": 0.073082,
     "end_time": "2023-05-14T19:31:39.291051",
     "exception": false,
     "start_time": "2023-05-14T19:31:39.217969",
     "status": "completed"
    },
    "tags": []
   },
   "outputs": [],
   "source": [
    "#df['review'].apply(remove_stopwords)"
   ]
  },
  {
   "cell_type": "markdown",
   "id": "bd0232df",
   "metadata": {
    "papermill": {
     "duration": 0.066269,
     "end_time": "2023-05-14T19:31:39.424434",
     "exception": false,
     "start_time": "2023-05-14T19:31:39.358165",
     "status": "completed"
    },
    "tags": []
   },
   "source": [
    "# Handle Emoji"
   ]
  },
  {
   "cell_type": "markdown",
   "id": "79c5e91c",
   "metadata": {
    "papermill": {
     "duration": 0.065652,
     "end_time": "2023-05-14T19:31:39.557695",
     "exception": false,
     "start_time": "2023-05-14T19:31:39.492043",
     "status": "completed"
    },
    "tags": []
   },
   "source": [
    "**Remove Emoji**"
   ]
  },
  {
   "cell_type": "code",
   "execution_count": 40,
   "id": "91047462",
   "metadata": {
    "execution": {
     "iopub.execute_input": "2023-05-14T19:31:39.694287Z",
     "iopub.status.busy": "2023-05-14T19:31:39.693563Z",
     "iopub.status.idle": "2023-05-14T19:31:39.698103Z",
     "shell.execute_reply": "2023-05-14T19:31:39.698747Z",
     "shell.execute_reply.started": "2023-05-14T19:29:43.947359Z"
    },
    "papermill": {
     "duration": 0.075422,
     "end_time": "2023-05-14T19:31:39.698926",
     "exception": false,
     "start_time": "2023-05-14T19:31:39.623504",
     "status": "completed"
    },
    "tags": []
   },
   "outputs": [],
   "source": [
    "import re\n",
    "def remove_emoji(text):\n",
    "    emoji_pattern = re.compile(\"[\"\n",
    "                           u\"\\U0001F600-\\U0001F64F\"  # emoticons\n",
    "                           u\"\\U0001F300-\\U0001F5FF\"  # symbols & pictographs\n",
    "                           u\"\\U0001F680-\\U0001F6FF\"  # transport & map symbols\n",
    "                           u\"\\U0001F1E0-\\U0001F1FF\"  # flags (iOS)\n",
    "                           u\"\\U00002702-\\U000027B0\"\n",
    "                           u\"\\U000024C2-\\U0001F251\"\n",
    "                           \"]+\", flags=re.UNICODE)\n",
    "    return emoji_pattern.sub(r'', text)"
   ]
  },
  {
   "cell_type": "code",
   "execution_count": 41,
   "id": "00f29ab3",
   "metadata": {
    "execution": {
     "iopub.execute_input": "2023-05-14T19:31:39.834752Z",
     "iopub.status.busy": "2023-05-14T19:31:39.834087Z",
     "iopub.status.idle": "2023-05-14T19:31:39.842369Z",
     "shell.execute_reply": "2023-05-14T19:31:39.842902Z",
     "shell.execute_reply.started": "2023-05-14T19:29:43.960350Z"
    },
    "papermill": {
     "duration": 0.077848,
     "end_time": "2023-05-14T19:31:39.843079",
     "exception": false,
     "start_time": "2023-05-14T19:31:39.765231",
     "status": "completed"
    },
    "tags": []
   },
   "outputs": [
    {
     "data": {
      "text/plain": [
       "'Loved the movie. It was '"
      ]
     },
     "execution_count": 41,
     "metadata": {},
     "output_type": "execute_result"
    }
   ],
   "source": [
    "remove_emoji(\"Loved the movie. It was 😘😘\")"
   ]
  },
  {
   "cell_type": "code",
   "execution_count": 42,
   "id": "616b50c9",
   "metadata": {
    "execution": {
     "iopub.execute_input": "2023-05-14T19:31:39.982049Z",
     "iopub.status.busy": "2023-05-14T19:31:39.981126Z",
     "iopub.status.idle": "2023-05-14T19:31:39.984916Z",
     "shell.execute_reply": "2023-05-14T19:31:39.984238Z",
     "shell.execute_reply.started": "2023-05-14T19:29:43.980139Z"
    },
    "papermill": {
     "duration": 0.075284,
     "end_time": "2023-05-14T19:31:39.985061",
     "exception": false,
     "start_time": "2023-05-14T19:31:39.909777",
     "status": "completed"
    },
    "tags": []
   },
   "outputs": [
    {
     "data": {
      "text/plain": [
       "'Lmao '"
      ]
     },
     "execution_count": 42,
     "metadata": {},
     "output_type": "execute_result"
    }
   ],
   "source": [
    "remove_emoji(\"Lmao 😂😂\")"
   ]
  },
  {
   "cell_type": "markdown",
   "id": "181a7a64",
   "metadata": {
    "papermill": {
     "duration": 0.066598,
     "end_time": "2023-05-14T19:31:40.118415",
     "exception": false,
     "start_time": "2023-05-14T19:31:40.051817",
     "status": "completed"
    },
    "tags": []
   },
   "source": [
    "**Replace Emoji**"
   ]
  },
  {
   "cell_type": "code",
   "execution_count": 43,
   "id": "4c5d6250",
   "metadata": {
    "execution": {
     "iopub.execute_input": "2023-05-14T19:31:40.255677Z",
     "iopub.status.busy": "2023-05-14T19:31:40.254639Z",
     "iopub.status.idle": "2023-05-14T19:31:40.487683Z",
     "shell.execute_reply": "2023-05-14T19:31:40.488185Z",
     "shell.execute_reply.started": "2023-05-14T19:29:43.988426Z"
    },
    "papermill": {
     "duration": 0.303393,
     "end_time": "2023-05-14T19:31:40.488373",
     "exception": false,
     "start_time": "2023-05-14T19:31:40.184980",
     "status": "completed"
    },
    "tags": []
   },
   "outputs": [
    {
     "name": "stdout",
     "output_type": "stream",
     "text": [
      "Python is :fire:\n"
     ]
    }
   ],
   "source": [
    "import emoji\n",
    "print(emoji.demojize('Python is 🔥'))"
   ]
  },
  {
   "cell_type": "code",
   "execution_count": 44,
   "id": "721a78e1",
   "metadata": {
    "execution": {
     "iopub.execute_input": "2023-05-14T19:31:40.627089Z",
     "iopub.status.busy": "2023-05-14T19:31:40.626276Z",
     "iopub.status.idle": "2023-05-14T19:31:40.629408Z",
     "shell.execute_reply": "2023-05-14T19:31:40.629927Z",
     "shell.execute_reply.started": "2023-05-14T19:29:44.292294Z"
    },
    "papermill": {
     "duration": 0.074751,
     "end_time": "2023-05-14T19:31:40.630099",
     "exception": false,
     "start_time": "2023-05-14T19:31:40.555348",
     "status": "completed"
    },
    "tags": []
   },
   "outputs": [
    {
     "name": "stdout",
     "output_type": "stream",
     "text": [
      "Loved the movie. It was :face_blowing_a_kiss:\n"
     ]
    }
   ],
   "source": [
    "print(emoji.demojize('Loved the movie. It was 😘'))"
   ]
  },
  {
   "cell_type": "markdown",
   "id": "2bd76c3c",
   "metadata": {
    "papermill": {
     "duration": 0.066499,
     "end_time": "2023-05-14T19:31:40.763494",
     "exception": false,
     "start_time": "2023-05-14T19:31:40.696995",
     "status": "completed"
    },
    "tags": []
   },
   "source": [
    "# Handle Emoticons"
   ]
  },
  {
   "cell_type": "markdown",
   "id": "916ca558",
   "metadata": {
    "papermill": {
     "duration": 0.067065,
     "end_time": "2023-05-14T19:31:40.897482",
     "exception": false,
     "start_time": "2023-05-14T19:31:40.830417",
     "status": "completed"
    },
    "tags": []
   },
   "source": [
    "**Remove**"
   ]
  },
  {
   "cell_type": "code",
   "execution_count": 45,
   "id": "4cc95541",
   "metadata": {
    "execution": {
     "iopub.execute_input": "2023-05-14T19:31:41.057828Z",
     "iopub.status.busy": "2023-05-14T19:31:41.051942Z",
     "iopub.status.idle": "2023-05-14T19:31:41.059590Z",
     "shell.execute_reply": "2023-05-14T19:31:41.060190Z",
     "shell.execute_reply.started": "2023-05-14T19:29:46.630903Z"
    },
    "papermill": {
     "duration": 0.096202,
     "end_time": "2023-05-14T19:31:41.060362",
     "exception": false,
     "start_time": "2023-05-14T19:31:40.964160",
     "status": "completed"
    },
    "tags": []
   },
   "outputs": [],
   "source": [
    "# Thanks : https://github.com/NeelShah18/emot/blob/master/emot/emo_unicode.py\n",
    "EMOTICONS = {\n",
    "    u\":‑\\)\":\"Happy face or smiley\",\n",
    "    u\":\\)\":\"Happy face or smiley\",\n",
    "    u\":-\\]\":\"Happy face or smiley\",\n",
    "    u\":\\]\":\"Happy face or smiley\",\n",
    "    u\":-3\":\"Happy face smiley\",\n",
    "    u\":3\":\"Happy face smiley\",\n",
    "    u\":->\":\"Happy face smiley\",\n",
    "    u\":>\":\"Happy face smiley\",\n",
    "    u\"8-\\)\":\"Happy face smiley\",\n",
    "    u\":o\\)\":\"Happy face smiley\",\n",
    "    u\":-\\}\":\"Happy face smiley\",\n",
    "    u\":\\}\":\"Happy face smiley\",\n",
    "    u\":-\\)\":\"Happy face smiley\",\n",
    "    u\":c\\)\":\"Happy face smiley\",\n",
    "    u\":\\^\\)\":\"Happy face smiley\",\n",
    "    u\"=\\]\":\"Happy face smiley\",\n",
    "    u\"=\\)\":\"Happy face smiley\",\n",
    "    u\":‑D\":\"Laughing, big grin or laugh with glasses\",\n",
    "    u\":D\":\"Laughing, big grin or laugh with glasses\",\n",
    "    u\"8‑D\":\"Laughing, big grin or laugh with glasses\",\n",
    "    u\"8D\":\"Laughing, big grin or laugh with glasses\",\n",
    "    u\"X‑D\":\"Laughing, big grin or laugh with glasses\",\n",
    "    u\"XD\":\"Laughing, big grin or laugh with glasses\",\n",
    "    u\"=D\":\"Laughing, big grin or laugh with glasses\",\n",
    "    u\"=3\":\"Laughing, big grin or laugh with glasses\",\n",
    "    u\"B\\^D\":\"Laughing, big grin or laugh with glasses\",\n",
    "    u\":-\\)\\)\":\"Very happy\",\n",
    "    u\":‑\\(\":\"Frown, sad, andry or pouting\",\n",
    "    u\":-\\(\":\"Frown, sad, andry or pouting\",\n",
    "    u\":\\(\":\"Frown, sad, andry or pouting\",\n",
    "    u\":‑c\":\"Frown, sad, andry or pouting\",\n",
    "    u\":c\":\"Frown, sad, andry or pouting\",\n",
    "    u\":‑<\":\"Frown, sad, andry or pouting\",\n",
    "    u\":<\":\"Frown, sad, andry or pouting\",\n",
    "    u\":‑\\[\":\"Frown, sad, andry or pouting\",\n",
    "    u\":\\[\":\"Frown, sad, andry or pouting\",\n",
    "    u\":-\\|\\|\":\"Frown, sad, andry or pouting\",\n",
    "    u\">:\\[\":\"Frown, sad, andry or pouting\",\n",
    "    u\":\\{\":\"Frown, sad, andry or pouting\",\n",
    "    u\":@\":\"Frown, sad, andry or pouting\",\n",
    "    u\">:\\(\":\"Frown, sad, andry or pouting\",\n",
    "    u\":'‑\\(\":\"Crying\",\n",
    "    u\":'\\(\":\"Crying\",\n",
    "    u\":'‑\\)\":\"Tears of happiness\",\n",
    "    u\":'\\)\":\"Tears of happiness\",\n",
    "    u\"D‑':\":\"Horror\",\n",
    "    u\"D:<\":\"Disgust\",\n",
    "    u\"D:\":\"Sadness\",\n",
    "    u\"D8\":\"Great dismay\",\n",
    "    u\"D;\":\"Great dismay\",\n",
    "    u\"D=\":\"Great dismay\",\n",
    "    u\"DX\":\"Great dismay\",\n",
    "    u\":‑O\":\"Surprise\",\n",
    "    u\":O\":\"Surprise\",\n",
    "    u\":‑o\":\"Surprise\",\n",
    "    u\":o\":\"Surprise\",\n",
    "    u\":-0\":\"Shock\",\n",
    "    u\"8‑0\":\"Yawn\",\n",
    "    u\">:O\":\"Yawn\",\n",
    "    u\":-\\*\":\"Kiss\",\n",
    "    u\":\\*\":\"Kiss\",\n",
    "    u\":X\":\"Kiss\",\n",
    "    u\";‑\\)\":\"Wink or smirk\",\n",
    "    u\";\\)\":\"Wink or smirk\",\n",
    "    u\"\\*-\\)\":\"Wink or smirk\",\n",
    "    u\"\\*\\)\":\"Wink or smirk\",\n",
    "    u\";‑\\]\":\"Wink or smirk\",\n",
    "    u\";\\]\":\"Wink or smirk\",\n",
    "    u\";\\^\\)\":\"Wink or smirk\",\n",
    "    u\":‑,\":\"Wink or smirk\",\n",
    "    u\";D\":\"Wink or smirk\",\n",
    "    u\":‑P\":\"Tongue sticking out, cheeky, playful or blowing a raspberry\",\n",
    "    u\":P\":\"Tongue sticking out, cheeky, playful or blowing a raspberry\",\n",
    "    u\"X‑P\":\"Tongue sticking out, cheeky, playful or blowing a raspberry\",\n",
    "    u\"XP\":\"Tongue sticking out, cheeky, playful or blowing a raspberry\",\n",
    "    u\":‑Þ\":\"Tongue sticking out, cheeky, playful or blowing a raspberry\",\n",
    "    u\":Þ\":\"Tongue sticking out, cheeky, playful or blowing a raspberry\",\n",
    "    u\":b\":\"Tongue sticking out, cheeky, playful or blowing a raspberry\",\n",
    "    u\"d:\":\"Tongue sticking out, cheeky, playful or blowing a raspberry\",\n",
    "    u\"=p\":\"Tongue sticking out, cheeky, playful or blowing a raspberry\",\n",
    "    u\">:P\":\"Tongue sticking out, cheeky, playful or blowing a raspberry\",\n",
    "    u\":‑/\":\"Skeptical, annoyed, undecided, uneasy or hesitant\",\n",
    "    u\":/\":\"Skeptical, annoyed, undecided, uneasy or hesitant\",\n",
    "    u\":-[.]\":\"Skeptical, annoyed, undecided, uneasy or hesitant\",\n",
    "    u\">:[(\\\\\\)]\":\"Skeptical, annoyed, undecided, uneasy or hesitant\",\n",
    "    u\">:/\":\"Skeptical, annoyed, undecided, uneasy or hesitant\",\n",
    "    u\":[(\\\\\\)]\":\"Skeptical, annoyed, undecided, uneasy or hesitant\",\n",
    "    u\"=/\":\"Skeptical, annoyed, undecided, uneasy or hesitant\",\n",
    "    u\"=[(\\\\\\)]\":\"Skeptical, annoyed, undecided, uneasy or hesitant\",\n",
    "    u\":L\":\"Skeptical, annoyed, undecided, uneasy or hesitant\",\n",
    "    u\"=L\":\"Skeptical, annoyed, undecided, uneasy or hesitant\",\n",
    "    u\":S\":\"Skeptical, annoyed, undecided, uneasy or hesitant\",\n",
    "    u\":‑\\|\":\"Straight face\",\n",
    "    u\":\\|\":\"Straight face\",\n",
    "    u\":$\":\"Embarrassed or blushing\",\n",
    "    u\":‑x\":\"Sealed lips or wearing braces or tongue-tied\",\n",
    "    u\":x\":\"Sealed lips or wearing braces or tongue-tied\",\n",
    "    u\":‑#\":\"Sealed lips or wearing braces or tongue-tied\",\n",
    "    u\":#\":\"Sealed lips or wearing braces or tongue-tied\",\n",
    "    u\":‑&\":\"Sealed lips or wearing braces or tongue-tied\",\n",
    "    u\":&\":\"Sealed lips or wearing braces or tongue-tied\",\n",
    "    u\"O:‑\\)\":\"Angel, saint or innocent\",\n",
    "    u\"O:\\)\":\"Angel, saint or innocent\",\n",
    "    u\"0:‑3\":\"Angel, saint or innocent\",\n",
    "    u\"0:3\":\"Angel, saint or innocent\",\n",
    "    u\"0:‑\\)\":\"Angel, saint or innocent\",\n",
    "    u\"0:\\)\":\"Angel, saint or innocent\",\n",
    "    u\":‑b\":\"Tongue sticking out, cheeky, playful or blowing a raspberry\",\n",
    "    u\"0;\\^\\)\":\"Angel, saint or innocent\",\n",
    "    u\">:‑\\)\":\"Evil or devilish\",\n",
    "    u\">:\\)\":\"Evil or devilish\",\n",
    "    u\"\\}:‑\\)\":\"Evil or devilish\",\n",
    "    u\"\\}:\\)\":\"Evil or devilish\",\n",
    "    u\"3:‑\\)\":\"Evil or devilish\",\n",
    "    u\"3:\\)\":\"Evil or devilish\",\n",
    "    u\">;\\)\":\"Evil or devilish\",\n",
    "    u\"\\|;‑\\)\":\"Cool\",\n",
    "    u\"\\|‑O\":\"Bored\",\n",
    "    u\":‑J\":\"Tongue-in-cheek\",\n",
    "    u\"#‑\\)\":\"Party all night\",\n",
    "    u\"%‑\\)\":\"Drunk or confused\",\n",
    "    u\"%\\)\":\"Drunk or confused\",\n",
    "    u\":-###..\":\"Being sick\",\n",
    "    u\":###..\":\"Being sick\",\n",
    "    u\"<:‑\\|\":\"Dump\",\n",
    "    u\"\\(>_<\\)\":\"Troubled\",\n",
    "    u\"\\(>_<\\)>\":\"Troubled\",\n",
    "    u\"\\(';'\\)\":\"Baby\",\n",
    "    u\"\\(\\^\\^>``\":\"Nervous or Embarrassed or Troubled or Shy or Sweat drop\",\n",
    "    u\"\\(\\^_\\^;\\)\":\"Nervous or Embarrassed or Troubled or Shy or Sweat drop\",\n",
    "    u\"\\(-_-;\\)\":\"Nervous or Embarrassed or Troubled or Shy or Sweat drop\",\n",
    "    u\"\\(~_~;\\) \\(・\\.・;\\)\":\"Nervous or Embarrassed or Troubled or Shy or Sweat drop\",\n",
    "    u\"\\(-_-\\)zzz\":\"Sleeping\",\n",
    "    u\"\\(\\^_-\\)\":\"Wink\",\n",
    "    u\"\\(\\(\\+_\\+\\)\\)\":\"Confused\",\n",
    "    u\"\\(\\+o\\+\\)\":\"Confused\",\n",
    "    u\"\\(o\\|o\\)\":\"Ultraman\",\n",
    "    u\"\\^_\\^\":\"Joyful\",\n",
    "    u\"\\(\\^_\\^\\)/\":\"Joyful\",\n",
    "    u\"\\(\\^O\\^\\)／\":\"Joyful\",\n",
    "    u\"\\(\\^o\\^\\)／\":\"Joyful\",\n",
    "    u\"\\(__\\)\":\"Kowtow as a sign of respect, or dogeza for apology\",\n",
    "    u\"_\\(\\._\\.\\)_\":\"Kowtow as a sign of respect, or dogeza for apology\",\n",
    "    u\"<\\(_ _\\)>\":\"Kowtow as a sign of respect, or dogeza for apology\",\n",
    "    u\"<m\\(__\\)m>\":\"Kowtow as a sign of respect, or dogeza for apology\",\n",
    "    u\"m\\(__\\)m\":\"Kowtow as a sign of respect, or dogeza for apology\",\n",
    "    u\"m\\(_ _\\)m\":\"Kowtow as a sign of respect, or dogeza for apology\",\n",
    "    u\"\\('_'\\)\":\"Sad or Crying\",\n",
    "    u\"\\(/_;\\)\":\"Sad or Crying\",\n",
    "    u\"\\(T_T\\) \\(;_;\\)\":\"Sad or Crying\",\n",
    "    u\"\\(;_;\":\"Sad of Crying\",\n",
    "    u\"\\(;_:\\)\":\"Sad or Crying\",\n",
    "    u\"\\(;O;\\)\":\"Sad or Crying\",\n",
    "    u\"\\(:_;\\)\":\"Sad or Crying\",\n",
    "    u\"\\(ToT\\)\":\"Sad or Crying\",\n",
    "    u\";_;\":\"Sad or Crying\",\n",
    "    u\";-;\":\"Sad or Crying\",\n",
    "    u\";n;\":\"Sad or Crying\",\n",
    "    u\";;\":\"Sad or Crying\",\n",
    "    u\"Q\\.Q\":\"Sad or Crying\",\n",
    "    u\"T\\.T\":\"Sad or Crying\",\n",
    "    u\"QQ\":\"Sad or Crying\",\n",
    "    u\"Q_Q\":\"Sad or Crying\",\n",
    "    u\"\\(-\\.-\\)\":\"Shame\",\n",
    "    u\"\\(-_-\\)\":\"Shame\",\n",
    "    u\"\\(一一\\)\":\"Shame\",\n",
    "    u\"\\(；一_一\\)\":\"Shame\",\n",
    "    u\"\\(=_=\\)\":\"Tired\",\n",
    "    u\"\\(=\\^\\·\\^=\\)\":\"cat\",\n",
    "    u\"\\(=\\^\\·\\·\\^=\\)\":\"cat\",\n",
    "    u\"=_\\^=\t\":\"cat\",\n",
    "    u\"\\(\\.\\.\\)\":\"Looking down\",\n",
    "    u\"\\(\\._\\.\\)\":\"Looking down\",\n",
    "    u\"\\^m\\^\":\"Giggling with hand covering mouth\",\n",
    "    u\"\\(\\・\\・?\":\"Confusion\",\n",
    "    u\"\\(?_?\\)\":\"Confusion\",\n",
    "    u\">\\^_\\^<\":\"Normal Laugh\",\n",
    "    u\"<\\^!\\^>\":\"Normal Laugh\",\n",
    "    u\"\\^/\\^\":\"Normal Laugh\",\n",
    "    u\"\\（\\*\\^_\\^\\*）\" :\"Normal Laugh\",\n",
    "    u\"\\(\\^<\\^\\) \\(\\^\\.\\^\\)\":\"Normal Laugh\",\n",
    "    u\"\\(^\\^\\)\":\"Normal Laugh\",\n",
    "    u\"\\(\\^\\.\\^\\)\":\"Normal Laugh\",\n",
    "    u\"\\(\\^_\\^\\.\\)\":\"Normal Laugh\",\n",
    "    u\"\\(\\^_\\^\\)\":\"Normal Laugh\",\n",
    "    u\"\\(\\^\\^\\)\":\"Normal Laugh\",\n",
    "    u\"\\(\\^J\\^\\)\":\"Normal Laugh\",\n",
    "    u\"\\(\\*\\^\\.\\^\\*\\)\":\"Normal Laugh\",\n",
    "    u\"\\(\\^—\\^\\）\":\"Normal Laugh\",\n",
    "    u\"\\(#\\^\\.\\^#\\)\":\"Normal Laugh\",\n",
    "    u\"\\（\\^—\\^\\）\":\"Waving\",\n",
    "    u\"\\(;_;\\)/~~~\":\"Waving\",\n",
    "    u\"\\(\\^\\.\\^\\)/~~~\":\"Waving\",\n",
    "    u\"\\(-_-\\)/~~~ \\($\\·\\·\\)/~~~\":\"Waving\",\n",
    "    u\"\\(T_T\\)/~~~\":\"Waving\",\n",
    "    u\"\\(ToT\\)/~~~\":\"Waving\",\n",
    "    u\"\\(\\*\\^0\\^\\*\\)\":\"Excited\",\n",
    "    u\"\\(\\*_\\*\\)\":\"Amazed\",\n",
    "    u\"\\(\\*_\\*;\":\"Amazed\",\n",
    "    u\"\\(\\+_\\+\\) \\(@_@\\)\":\"Amazed\",\n",
    "    u\"\\(\\*\\^\\^\\)v\":\"Laughing,Cheerful\",\n",
    "    u\"\\(\\^_\\^\\)v\":\"Laughing,Cheerful\",\n",
    "    u\"\\(\\(d[-_-]b\\)\\)\":\"Headphones,Listening to music\",\n",
    "    u'\\(-\"-\\)':\"Worried\",\n",
    "    u\"\\(ーー;\\)\":\"Worried\",\n",
    "    u\"\\(\\^0_0\\^\\)\":\"Eyeglasses\",\n",
    "    u\"\\(\\＾ｖ\\＾\\)\":\"Happy\",\n",
    "    u\"\\(\\＾ｕ\\＾\\)\":\"Happy\",\n",
    "    u\"\\(\\^\\)o\\(\\^\\)\":\"Happy\",\n",
    "    u\"\\(\\^O\\^\\)\":\"Happy\",\n",
    "    u\"\\(\\^o\\^\\)\":\"Happy\",\n",
    "    u\"\\)\\^o\\^\\(\":\"Happy\",\n",
    "    u\":O o_O\":\"Surprised\",\n",
    "    u\"o_0\":\"Surprised\",\n",
    "    u\"o\\.O\":\"Surpised\",\n",
    "    u\"\\(o\\.o\\)\":\"Surprised\",\n",
    "    u\"oO\":\"Surprised\",\n",
    "    u\"\\(\\*￣m￣\\)\":\"Dissatisfied\",\n",
    "    u\"\\(‘A`\\)\":\"Snubbed or Deflated\"\n",
    "}"
   ]
  },
  {
   "cell_type": "code",
   "execution_count": 46,
   "id": "b5561204",
   "metadata": {
    "execution": {
     "iopub.execute_input": "2023-05-14T19:31:41.197912Z",
     "iopub.status.busy": "2023-05-14T19:31:41.197234Z",
     "iopub.status.idle": "2023-05-14T19:31:41.207229Z",
     "shell.execute_reply": "2023-05-14T19:31:41.207847Z",
     "shell.execute_reply.started": "2023-05-14T19:29:46.669830Z"
    },
    "papermill": {
     "duration": 0.080703,
     "end_time": "2023-05-14T19:31:41.208027",
     "exception": false,
     "start_time": "2023-05-14T19:31:41.127324",
     "status": "completed"
    },
    "tags": []
   },
   "outputs": [
    {
     "data": {
      "text/plain": [
       "'Hello '"
      ]
     },
     "execution_count": 46,
     "metadata": {},
     "output_type": "execute_result"
    }
   ],
   "source": [
    "def remove_emoticons(text):\n",
    "    emoticon_pattern = re.compile(u'(' + u'|'.join(k for k in EMOTICONS) + u')')\n",
    "    return emoticon_pattern.sub(r'', text)\n",
    "\n",
    "remove_emoticons(\"Hello :-)\")"
   ]
  },
  {
   "cell_type": "markdown",
   "id": "5d64e078",
   "metadata": {
    "papermill": {
     "duration": 0.067246,
     "end_time": "2023-05-14T19:31:41.342297",
     "exception": false,
     "start_time": "2023-05-14T19:31:41.275051",
     "status": "completed"
    },
    "tags": []
   },
   "source": [
    "**Replace with words**"
   ]
  },
  {
   "cell_type": "code",
   "execution_count": 47,
   "id": "8ea0461c",
   "metadata": {
    "execution": {
     "iopub.execute_input": "2023-05-14T19:31:41.480281Z",
     "iopub.status.busy": "2023-05-14T19:31:41.479611Z",
     "iopub.status.idle": "2023-05-14T19:31:41.503268Z",
     "shell.execute_reply": "2023-05-14T19:31:41.503901Z",
     "shell.execute_reply.started": "2023-05-14T19:29:46.695471Z"
    },
    "papermill": {
     "duration": 0.094421,
     "end_time": "2023-05-14T19:31:41.504089",
     "exception": false,
     "start_time": "2023-05-14T19:31:41.409668",
     "status": "completed"
    },
    "tags": []
   },
   "outputs": [
    {
     "data": {
      "text/plain": [
       "'Hello Happy_face_smiley Happy_face_smiley'"
      ]
     },
     "execution_count": 47,
     "metadata": {},
     "output_type": "execute_result"
    }
   ],
   "source": [
    "def convert_emoticons(text):\n",
    "    for emot in EMOTICONS:\n",
    "        text = re.sub(u'('+emot+')', \"_\".join(EMOTICONS[emot].replace(\",\",\"\").split()), text)\n",
    "    return text\n",
    "\n",
    "text = \"Hello :-) :-)\"\n",
    "convert_emoticons(text)"
   ]
  },
  {
   "cell_type": "markdown",
   "id": "ee3aa508",
   "metadata": {
    "papermill": {
     "duration": 0.067776,
     "end_time": "2023-05-14T19:31:41.639617",
     "exception": false,
     "start_time": "2023-05-14T19:31:41.571841",
     "status": "completed"
    },
    "tags": []
   },
   "source": [
    "# Tokenization"
   ]
  },
  {
   "cell_type": "markdown",
   "id": "3a28866c",
   "metadata": {
    "papermill": {
     "duration": 0.067409,
     "end_time": "2023-05-14T19:31:41.774856",
     "exception": false,
     "start_time": "2023-05-14T19:31:41.707447",
     "status": "completed"
    },
    "tags": []
   },
   "source": [
    "### 1. Using the split function"
   ]
  },
  {
   "cell_type": "code",
   "execution_count": 48,
   "id": "e12c6ce3",
   "metadata": {
    "execution": {
     "iopub.execute_input": "2023-05-14T19:31:41.915741Z",
     "iopub.status.busy": "2023-05-14T19:31:41.915047Z",
     "iopub.status.idle": "2023-05-14T19:31:41.917804Z",
     "shell.execute_reply": "2023-05-14T19:31:41.918344Z",
     "shell.execute_reply.started": "2023-05-14T19:29:46.730530Z"
    },
    "papermill": {
     "duration": 0.076234,
     "end_time": "2023-05-14T19:31:41.918535",
     "exception": false,
     "start_time": "2023-05-14T19:31:41.842301",
     "status": "completed"
    },
    "tags": []
   },
   "outputs": [
    {
     "data": {
      "text/plain": [
       "['I', 'am', 'going', 'to', 'delhi']"
      ]
     },
     "execution_count": 48,
     "metadata": {},
     "output_type": "execute_result"
    }
   ],
   "source": [
    "# word tokenization\n",
    "sent1 = 'I am going to delhi'\n",
    "sent1.split()"
   ]
  },
  {
   "cell_type": "code",
   "execution_count": 49,
   "id": "dcbea29a",
   "metadata": {
    "execution": {
     "iopub.execute_input": "2023-05-14T19:31:42.057967Z",
     "iopub.status.busy": "2023-05-14T19:31:42.057309Z",
     "iopub.status.idle": "2023-05-14T19:31:42.062266Z",
     "shell.execute_reply": "2023-05-14T19:31:42.062860Z",
     "shell.execute_reply.started": "2023-05-14T19:29:46.739014Z"
    },
    "papermill": {
     "duration": 0.07661,
     "end_time": "2023-05-14T19:31:42.063041",
     "exception": false,
     "start_time": "2023-05-14T19:31:41.986431",
     "status": "completed"
    },
    "tags": []
   },
   "outputs": [
    {
     "data": {
      "text/plain": [
       "['I am going to delhi',\n",
       " ' I will stay there for 3 days',\n",
       " \" Let's hope the trip to be great\"]"
      ]
     },
     "execution_count": 49,
     "metadata": {},
     "output_type": "execute_result"
    }
   ],
   "source": [
    "# sentence tokenization\n",
    "sent2 = 'I am going to delhi. I will stay there for 3 days. Let\\'s hope the trip to be great'\n",
    "sent2.split('.')"
   ]
  },
  {
   "cell_type": "code",
   "execution_count": 50,
   "id": "d95dfa57",
   "metadata": {
    "execution": {
     "iopub.execute_input": "2023-05-14T19:31:42.203027Z",
     "iopub.status.busy": "2023-05-14T19:31:42.202346Z",
     "iopub.status.idle": "2023-05-14T19:31:42.208163Z",
     "shell.execute_reply": "2023-05-14T19:31:42.208801Z",
     "shell.execute_reply.started": "2023-05-14T19:29:46.784939Z"
    },
    "papermill": {
     "duration": 0.077658,
     "end_time": "2023-05-14T19:31:42.208999",
     "exception": false,
     "start_time": "2023-05-14T19:31:42.131341",
     "status": "completed"
    },
    "tags": []
   },
   "outputs": [
    {
     "data": {
      "text/plain": [
       "[['I', 'am', 'going', 'to', 'delhi'],\n",
       " ['I', 'will', 'stay', 'there', 'for', '3', 'days'],\n",
       " [\"Let's\", 'hope', 'the', 'trip', 'to', 'be', 'great']]"
      ]
     },
     "execution_count": 50,
     "metadata": {},
     "output_type": "execute_result"
    }
   ],
   "source": [
    "#Sentence word level tokenization\n",
    "sent_lst = []\n",
    "for sent in sent2.split('.'):\n",
    "    sent_lst.append(sent.split())\n",
    "sent_lst"
   ]
  },
  {
   "cell_type": "code",
   "execution_count": 51,
   "id": "cf2ea3c0",
   "metadata": {
    "execution": {
     "iopub.execute_input": "2023-05-14T19:31:42.349831Z",
     "iopub.status.busy": "2023-05-14T19:31:42.349179Z",
     "iopub.status.idle": "2023-05-14T19:31:42.353993Z",
     "shell.execute_reply": "2023-05-14T19:31:42.354605Z",
     "shell.execute_reply.started": "2023-05-14T19:29:46.794321Z"
    },
    "papermill": {
     "duration": 0.07669,
     "end_time": "2023-05-14T19:31:42.354775",
     "exception": false,
     "start_time": "2023-05-14T19:31:42.278085",
     "status": "completed"
    },
    "tags": []
   },
   "outputs": [
    {
     "data": {
      "text/plain": [
       "['I', 'am', 'going', 'to', 'delhi!']"
      ]
     },
     "execution_count": 51,
     "metadata": {},
     "output_type": "execute_result"
    }
   ],
   "source": [
    "# Problems with split function\n",
    "sent3 = 'I am going to delhi!'\n",
    "sent3.split()"
   ]
  },
  {
   "cell_type": "code",
   "execution_count": 52,
   "id": "103497ef",
   "metadata": {
    "execution": {
     "iopub.execute_input": "2023-05-14T19:31:42.494915Z",
     "iopub.status.busy": "2023-05-14T19:31:42.494243Z",
     "iopub.status.idle": "2023-05-14T19:31:42.499835Z",
     "shell.execute_reply": "2023-05-14T19:31:42.500301Z",
     "shell.execute_reply.started": "2023-05-14T19:29:46.806111Z"
    },
    "papermill": {
     "duration": 0.077301,
     "end_time": "2023-05-14T19:31:42.500496",
     "exception": false,
     "start_time": "2023-05-14T19:31:42.423195",
     "status": "completed"
    },
    "tags": []
   },
   "outputs": [
    {
     "data": {
      "text/plain": [
       "['Where do think I should go? I have 3 day holiday']"
      ]
     },
     "execution_count": 52,
     "metadata": {},
     "output_type": "execute_result"
    }
   ],
   "source": [
    "sent4 = 'Where do think I should go? I have 3 day holiday'\n",
    "sent4.split('.')"
   ]
  },
  {
   "cell_type": "markdown",
   "id": "8bc05388",
   "metadata": {
    "papermill": {
     "duration": 0.069061,
     "end_time": "2023-05-14T19:31:42.638718",
     "exception": false,
     "start_time": "2023-05-14T19:31:42.569657",
     "status": "completed"
    },
    "tags": []
   },
   "source": [
    "### 2. Regular Expression"
   ]
  },
  {
   "cell_type": "code",
   "execution_count": 53,
   "id": "93074409",
   "metadata": {
    "execution": {
     "iopub.execute_input": "2023-05-14T19:31:42.804754Z",
     "iopub.status.busy": "2023-05-14T19:31:42.804071Z",
     "iopub.status.idle": "2023-05-14T19:31:42.806907Z",
     "shell.execute_reply": "2023-05-14T19:31:42.807398Z",
     "shell.execute_reply.started": "2023-05-14T19:29:46.914494Z"
    },
    "papermill": {
     "duration": 0.088883,
     "end_time": "2023-05-14T19:31:42.807586",
     "exception": false,
     "start_time": "2023-05-14T19:31:42.718703",
     "status": "completed"
    },
    "tags": []
   },
   "outputs": [
    {
     "data": {
      "text/plain": [
       "['I', 'am', 'going', 'to', 'delhi']"
      ]
     },
     "execution_count": 53,
     "metadata": {},
     "output_type": "execute_result"
    }
   ],
   "source": [
    "import re\n",
    "sent3 = 'I am going to delhi!'\n",
    "tokens = re.findall(\"[\\w']+\", sent3)\n",
    "tokens"
   ]
  },
  {
   "cell_type": "code",
   "execution_count": 54,
   "id": "37552597",
   "metadata": {
    "execution": {
     "iopub.execute_input": "2023-05-14T19:31:42.950073Z",
     "iopub.status.busy": "2023-05-14T19:31:42.949389Z",
     "iopub.status.idle": "2023-05-14T19:31:42.956077Z",
     "shell.execute_reply": "2023-05-14T19:31:42.956693Z",
     "shell.execute_reply.started": "2023-05-14T19:29:46.924661Z"
    },
    "papermill": {
     "duration": 0.079757,
     "end_time": "2023-05-14T19:31:42.956870",
     "exception": false,
     "start_time": "2023-05-14T19:31:42.877113",
     "status": "completed"
    },
    "tags": []
   },
   "outputs": [
    {
     "data": {
      "text/plain": [
       "['Lorem Ipsum is simply dummy text of the printing and typesetting industry',\n",
       " \"\\nLorem Ipsum has been the industry's standard dummy text ever since the 1500s, \\nwhen an unknown printer took a galley of type and scrambled it to make a type specimen book.\"]"
      ]
     },
     "execution_count": 54,
     "metadata": {},
     "output_type": "execute_result"
    }
   ],
   "source": [
    "\n",
    "text = \"\"\"Lorem Ipsum is simply dummy text of the printing and typesetting industry? \n",
    "Lorem Ipsum has been the industry's standard dummy text ever since the 1500s, \n",
    "when an unknown printer took a galley of type and scrambled it to make a type specimen book.\"\"\"\n",
    "sentences = re.compile('[.!?] ').split(text)\n",
    "sentences"
   ]
  },
  {
   "cell_type": "markdown",
   "id": "bed163c2",
   "metadata": {
    "papermill": {
     "duration": 0.06966,
     "end_time": "2023-05-14T19:31:43.098417",
     "exception": false,
     "start_time": "2023-05-14T19:31:43.028757",
     "status": "completed"
    },
    "tags": []
   },
   "source": [
    "### 3. NLTK"
   ]
  },
  {
   "cell_type": "code",
   "execution_count": 55,
   "id": "a63b1fc4",
   "metadata": {
    "execution": {
     "iopub.execute_input": "2023-05-14T19:31:43.243685Z",
     "iopub.status.busy": "2023-05-14T19:31:43.242942Z",
     "iopub.status.idle": "2023-05-14T19:31:43.245776Z",
     "shell.execute_reply": "2023-05-14T19:31:43.245265Z",
     "shell.execute_reply.started": "2023-05-14T19:29:48.521759Z"
    },
    "papermill": {
     "duration": 0.077253,
     "end_time": "2023-05-14T19:31:43.245941",
     "exception": false,
     "start_time": "2023-05-14T19:31:43.168688",
     "status": "completed"
    },
    "tags": []
   },
   "outputs": [],
   "source": [
    "from nltk.tokenize import word_tokenize,sent_tokenize"
   ]
  },
  {
   "cell_type": "code",
   "execution_count": 56,
   "id": "8ba57264",
   "metadata": {
    "execution": {
     "iopub.execute_input": "2023-05-14T19:31:43.390262Z",
     "iopub.status.busy": "2023-05-14T19:31:43.389521Z",
     "iopub.status.idle": "2023-05-14T19:31:43.404124Z",
     "shell.execute_reply": "2023-05-14T19:31:43.403444Z",
     "shell.execute_reply.started": "2023-05-14T19:29:48.528856Z"
    },
    "papermill": {
     "duration": 0.088848,
     "end_time": "2023-05-14T19:31:43.404272",
     "exception": false,
     "start_time": "2023-05-14T19:31:43.315424",
     "status": "completed"
    },
    "tags": []
   },
   "outputs": [
    {
     "data": {
      "text/plain": [
       "['I', 'am', 'going', 'to', 'visit', 'delhi', '!']"
      ]
     },
     "execution_count": 56,
     "metadata": {},
     "output_type": "execute_result"
    }
   ],
   "source": [
    "sent1 = 'I am going to visit delhi!'\n",
    "word_tokenize(sent1)"
   ]
  },
  {
   "cell_type": "code",
   "execution_count": 57,
   "id": "219d3cea",
   "metadata": {
    "execution": {
     "iopub.execute_input": "2023-05-14T19:31:43.548975Z",
     "iopub.status.busy": "2023-05-14T19:31:43.548256Z",
     "iopub.status.idle": "2023-05-14T19:31:43.553784Z",
     "shell.execute_reply": "2023-05-14T19:31:43.554276Z",
     "shell.execute_reply.started": "2023-05-14T19:29:50.473540Z"
    },
    "papermill": {
     "duration": 0.079749,
     "end_time": "2023-05-14T19:31:43.554447",
     "exception": false,
     "start_time": "2023-05-14T19:31:43.474698",
     "status": "completed"
    },
    "tags": []
   },
   "outputs": [
    {
     "data": {
      "text/plain": [
       "['Lorem Ipsum is simply dummy text of the printing and typesetting industry?',\n",
       " \"Lorem Ipsum has been the industry's standard dummy text ever since the 1500s, \\nwhen an unknown printer took a galley of type and scrambled it to make a type specimen book.\"]"
      ]
     },
     "execution_count": 57,
     "metadata": {},
     "output_type": "execute_result"
    }
   ],
   "source": [
    "text = \"\"\"Lorem Ipsum is simply dummy text of the printing and typesetting industry? \n",
    "Lorem Ipsum has been the industry's standard dummy text ever since the 1500s, \n",
    "when an unknown printer took a galley of type and scrambled it to make a type specimen book.\"\"\"\n",
    "\n",
    "sent_tokenize(text)"
   ]
  },
  {
   "cell_type": "code",
   "execution_count": 58,
   "id": "996f30a2",
   "metadata": {
    "execution": {
     "iopub.execute_input": "2023-05-14T19:31:43.698204Z",
     "iopub.status.busy": "2023-05-14T19:31:43.697429Z",
     "iopub.status.idle": "2023-05-14T19:31:43.701975Z",
     "shell.execute_reply": "2023-05-14T19:31:43.702491Z",
     "shell.execute_reply.started": "2023-05-14T19:29:50.484787Z"
    },
    "papermill": {
     "duration": 0.078087,
     "end_time": "2023-05-14T19:31:43.702664",
     "exception": false,
     "start_time": "2023-05-14T19:31:43.624577",
     "status": "completed"
    },
    "tags": []
   },
   "outputs": [
    {
     "data": {
      "text/plain": [
       "['I', 'have', 'a', 'Ph.D', 'in', 'A.I']"
      ]
     },
     "execution_count": 58,
     "metadata": {},
     "output_type": "execute_result"
    }
   ],
   "source": [
    "sent5 = 'I have a Ph.D in A.I'\n",
    "sent6 = \"We're here to help! mail us at nks@gmail.com\"\n",
    "sent7 = 'A 5km ride cost $10.50'\n",
    "\n",
    "word_tokenize(sent5)"
   ]
  },
  {
   "cell_type": "code",
   "execution_count": 59,
   "id": "fb2940ad",
   "metadata": {
    "execution": {
     "iopub.execute_input": "2023-05-14T19:31:43.848976Z",
     "iopub.status.busy": "2023-05-14T19:31:43.848205Z",
     "iopub.status.idle": "2023-05-14T19:31:43.853064Z",
     "shell.execute_reply": "2023-05-14T19:31:43.853570Z",
     "shell.execute_reply.started": "2023-05-14T19:29:50.500693Z"
    },
    "papermill": {
     "duration": 0.080511,
     "end_time": "2023-05-14T19:31:43.853741",
     "exception": false,
     "start_time": "2023-05-14T19:31:43.773230",
     "status": "completed"
    },
    "tags": []
   },
   "outputs": [
    {
     "data": {
      "text/plain": [
       "['We',\n",
       " \"'re\",\n",
       " 'here',\n",
       " 'to',\n",
       " 'help',\n",
       " '!',\n",
       " 'mail',\n",
       " 'us',\n",
       " 'at',\n",
       " 'nks',\n",
       " '@',\n",
       " 'gmail.com']"
      ]
     },
     "execution_count": 59,
     "metadata": {},
     "output_type": "execute_result"
    }
   ],
   "source": [
    "word_tokenize(sent6)"
   ]
  },
  {
   "cell_type": "code",
   "execution_count": 60,
   "id": "ab3c798f",
   "metadata": {
    "execution": {
     "iopub.execute_input": "2023-05-14T19:31:43.999326Z",
     "iopub.status.busy": "2023-05-14T19:31:43.998661Z",
     "iopub.status.idle": "2023-05-14T19:31:44.003479Z",
     "shell.execute_reply": "2023-05-14T19:31:44.003993Z",
     "shell.execute_reply.started": "2023-05-14T19:29:52.477245Z"
    },
    "papermill": {
     "duration": 0.079493,
     "end_time": "2023-05-14T19:31:44.004173",
     "exception": false,
     "start_time": "2023-05-14T19:31:43.924680",
     "status": "completed"
    },
    "tags": []
   },
   "outputs": [
    {
     "data": {
      "text/plain": [
       "['A', '5km', 'ride', 'cost', '$', '10.50']"
      ]
     },
     "execution_count": 60,
     "metadata": {},
     "output_type": "execute_result"
    }
   ],
   "source": [
    "word_tokenize(sent7)"
   ]
  },
  {
   "cell_type": "markdown",
   "id": "9c6d1e1a",
   "metadata": {
    "papermill": {
     "duration": 0.071202,
     "end_time": "2023-05-14T19:31:44.146887",
     "exception": false,
     "start_time": "2023-05-14T19:31:44.075685",
     "status": "completed"
    },
    "tags": []
   },
   "source": [
    "### 4. Spacy"
   ]
  },
  {
   "cell_type": "code",
   "execution_count": 61,
   "id": "3bf7807d",
   "metadata": {
    "execution": {
     "iopub.execute_input": "2023-05-14T19:31:44.294103Z",
     "iopub.status.busy": "2023-05-14T19:31:44.292400Z",
     "iopub.status.idle": "2023-05-14T19:31:52.938851Z",
     "shell.execute_reply": "2023-05-14T19:31:52.939432Z",
     "shell.execute_reply.started": "2023-05-14T19:29:52.486548Z"
    },
    "papermill": {
     "duration": 8.721336,
     "end_time": "2023-05-14T19:31:52.939643",
     "exception": false,
     "start_time": "2023-05-14T19:31:44.218307",
     "status": "completed"
    },
    "tags": []
   },
   "outputs": [],
   "source": [
    "import spacy\n",
    "nlp = spacy.load('en_core_web_sm')"
   ]
  },
  {
   "cell_type": "code",
   "execution_count": 62,
   "id": "8a10b6bc",
   "metadata": {
    "execution": {
     "iopub.execute_input": "2023-05-14T19:31:53.089369Z",
     "iopub.status.busy": "2023-05-14T19:31:53.086249Z",
     "iopub.status.idle": "2023-05-14T19:31:53.125925Z",
     "shell.execute_reply": "2023-05-14T19:31:53.126501Z",
     "shell.execute_reply.started": "2023-05-14T19:30:04.872092Z"
    },
    "papermill": {
     "duration": 0.115179,
     "end_time": "2023-05-14T19:31:53.126687",
     "exception": false,
     "start_time": "2023-05-14T19:31:53.011508",
     "status": "completed"
    },
    "tags": []
   },
   "outputs": [],
   "source": [
    "doc1 = nlp(sent5)\n",
    "doc2 = nlp(sent6)\n",
    "doc3 = nlp(sent7)\n",
    "doc4 = nlp(sent1)"
   ]
  },
  {
   "cell_type": "code",
   "execution_count": 63,
   "id": "63cbe873",
   "metadata": {
    "execution": {
     "iopub.execute_input": "2023-05-14T19:31:53.273676Z",
     "iopub.status.busy": "2023-05-14T19:31:53.272628Z",
     "iopub.status.idle": "2023-05-14T19:31:53.278553Z",
     "shell.execute_reply": "2023-05-14T19:31:53.279029Z",
     "shell.execute_reply.started": "2023-05-14T19:30:04.923577Z"
    },
    "papermill": {
     "duration": 0.081112,
     "end_time": "2023-05-14T19:31:53.279211",
     "exception": false,
     "start_time": "2023-05-14T19:31:53.198099",
     "status": "completed"
    },
    "tags": []
   },
   "outputs": [
    {
     "name": "stdout",
     "output_type": "stream",
     "text": [
      "I\n",
      "have\n",
      "a\n",
      "Ph\n",
      ".\n",
      "D\n",
      "in\n",
      "A.I\n"
     ]
    }
   ],
   "source": [
    "for token in doc1:\n",
    "    print(token)"
   ]
  },
  {
   "cell_type": "markdown",
   "id": "b6a5b05b",
   "metadata": {
    "papermill": {
     "duration": 0.071553,
     "end_time": "2023-05-14T19:31:53.422791",
     "exception": false,
     "start_time": "2023-05-14T19:31:53.351238",
     "status": "completed"
    },
    "tags": []
   },
   "source": [
    "# Stemming"
   ]
  },
  {
   "cell_type": "code",
   "execution_count": 64,
   "id": "8492f6d1",
   "metadata": {
    "execution": {
     "iopub.execute_input": "2023-05-14T19:31:53.572211Z",
     "iopub.status.busy": "2023-05-14T19:31:53.571173Z",
     "iopub.status.idle": "2023-05-14T19:31:53.573198Z",
     "shell.execute_reply": "2023-05-14T19:31:53.573835Z",
     "shell.execute_reply.started": "2023-05-14T19:30:04.933094Z"
    },
    "papermill": {
     "duration": 0.079698,
     "end_time": "2023-05-14T19:31:53.574018",
     "exception": false,
     "start_time": "2023-05-14T19:31:53.494320",
     "status": "completed"
    },
    "tags": []
   },
   "outputs": [],
   "source": [
    "from nltk.stem.porter import PorterStemmer"
   ]
  },
  {
   "cell_type": "code",
   "execution_count": 65,
   "id": "dfc196bc",
   "metadata": {
    "execution": {
     "iopub.execute_input": "2023-05-14T19:31:53.735140Z",
     "iopub.status.busy": "2023-05-14T19:31:53.731885Z",
     "iopub.status.idle": "2023-05-14T19:31:53.737271Z",
     "shell.execute_reply": "2023-05-14T19:31:53.738183Z",
     "shell.execute_reply.started": "2023-05-14T19:30:04.943640Z"
    },
    "papermill": {
     "duration": 0.092874,
     "end_time": "2023-05-14T19:31:53.738415",
     "exception": false,
     "start_time": "2023-05-14T19:31:53.645541",
     "status": "completed"
    },
    "tags": []
   },
   "outputs": [],
   "source": [
    "ps = PorterStemmer()\n",
    "def stem_words(text):\n",
    "    return \" \".join([ps.stem(word) for word in text.split()])"
   ]
  },
  {
   "cell_type": "code",
   "execution_count": 66,
   "id": "136b8b41",
   "metadata": {
    "execution": {
     "iopub.execute_input": "2023-05-14T19:31:53.892507Z",
     "iopub.status.busy": "2023-05-14T19:31:53.891790Z",
     "iopub.status.idle": "2023-05-14T19:31:53.895648Z",
     "shell.execute_reply": "2023-05-14T19:31:53.895093Z",
     "shell.execute_reply.started": "2023-05-14T19:30:04.957145Z"
    },
    "papermill": {
     "duration": 0.080855,
     "end_time": "2023-05-14T19:31:53.895806",
     "exception": false,
     "start_time": "2023-05-14T19:31:53.814951",
     "status": "completed"
    },
    "tags": []
   },
   "outputs": [
    {
     "data": {
      "text/plain": [
       "'walk walk walk walk'"
      ]
     },
     "execution_count": 66,
     "metadata": {},
     "output_type": "execute_result"
    }
   ],
   "source": [
    "sample = \"walk walks walking walked\"\n",
    "stem_words(sample)"
   ]
  },
  {
   "cell_type": "code",
   "execution_count": 67,
   "id": "4a32b16c",
   "metadata": {
    "execution": {
     "iopub.execute_input": "2023-05-14T19:31:54.045230Z",
     "iopub.status.busy": "2023-05-14T19:31:54.044201Z",
     "iopub.status.idle": "2023-05-14T19:31:54.054000Z",
     "shell.execute_reply": "2023-05-14T19:31:54.054537Z",
     "shell.execute_reply.started": "2023-05-14T19:30:04.971441Z"
    },
    "papermill": {
     "duration": 0.086122,
     "end_time": "2023-05-14T19:31:54.054739",
     "exception": false,
     "start_time": "2023-05-14T19:31:53.968617",
     "status": "completed"
    },
    "tags": []
   },
   "outputs": [
    {
     "name": "stdout",
     "output_type": "stream",
     "text": [
      "probably my alltime favorite movie a story of selflessness sacrifice and dedication to a noble cause but its not preachy or boring it just never gets old despite my having seen it some 15 or more times in the last 25 years paul lukas performance brings tears to my eyes and bette davis in one of her very few truly sympathetic roles is a delight the kids are as grandma says more like dressedup midgets than children but that only makes them more fun to watch and the mothers slow awakening to whats happening in the world and under her own roof is believable and startling if i had a dozen thumbs theyd all be up for this movie\n"
     ]
    },
    {
     "data": {
      "text/plain": [
       "'probabl my alltim favorit movi a stori of selfless sacrific and dedic to a nobl caus but it not preachi or bore it just never get old despit my have seen it some 15 or more time in the last 25 year paul luka perform bring tear to my eye and bett davi in one of her veri few truli sympathet role is a delight the kid are as grandma say more like dressedup midget than children but that onli make them more fun to watch and the mother slow awaken to what happen in the world and under her own roof is believ and startl if i had a dozen thumb theyd all be up for thi movi'"
      ]
     },
     "execution_count": 67,
     "metadata": {},
     "output_type": "execute_result"
    }
   ],
   "source": [
    "text = 'probably my alltime favorite movie a story of selflessness sacrifice and dedication to a noble cause but its not preachy or boring it just never gets old despite my having seen it some 15 or more times in the last 25 years paul lukas performance brings tears to my eyes and bette davis in one of her very few truly sympathetic roles is a delight the kids are as grandma says more like dressedup midgets than children but that only makes them more fun to watch and the mothers slow awakening to whats happening in the world and under her own roof is believable and startling if i had a dozen thumbs theyd all be up for this movie'\n",
    "print(text)\n",
    "stem_words(text)"
   ]
  },
  {
   "cell_type": "markdown",
   "id": "7c10f8f6",
   "metadata": {
    "papermill": {
     "duration": 0.072529,
     "end_time": "2023-05-14T19:31:54.200197",
     "exception": false,
     "start_time": "2023-05-14T19:31:54.127668",
     "status": "completed"
    },
    "tags": []
   },
   "source": [
    "# Lemmatizer"
   ]
  },
  {
   "cell_type": "code",
   "execution_count": 68,
   "id": "bf89aa05",
   "metadata": {
    "execution": {
     "iopub.execute_input": "2023-05-14T19:31:54.349201Z",
     "iopub.status.busy": "2023-05-14T19:31:54.348522Z",
     "iopub.status.idle": "2023-05-14T19:31:56.380817Z",
     "shell.execute_reply": "2023-05-14T19:31:56.381503Z",
     "shell.execute_reply.started": "2023-05-14T19:30:04.988788Z"
    },
    "papermill": {
     "duration": 2.108436,
     "end_time": "2023-05-14T19:31:56.381695",
     "exception": false,
     "start_time": "2023-05-14T19:31:54.273259",
     "status": "completed"
    },
    "tags": []
   },
   "outputs": [
    {
     "name": "stdout",
     "output_type": "stream",
     "text": [
      "Word                Lemma               \n",
      "He                  He                  \n",
      "was                 be                  \n",
      "running             run                 \n",
      "and                 and                 \n",
      "eating              eat                 \n",
      "at                  at                  \n",
      "same                same                \n",
      "time                time                \n",
      "He                  He                  \n",
      "has                 have                \n",
      "bad                 bad                 \n",
      "habit               habit               \n",
      "of                  of                  \n",
      "swimming            swim                \n",
      "after               after               \n",
      "playing             play                \n",
      "long                long                \n",
      "hours               hours               \n",
      "in                  in                  \n",
      "the                 the                 \n",
      "Sun                 Sun                 \n"
     ]
    }
   ],
   "source": [
    "import nltk\n",
    "from nltk.stem import WordNetLemmatizer\n",
    "wordnet_lemmatizer = WordNetLemmatizer()\n",
    "\n",
    "sentence = \"He was running and eating at same time. He has bad habit of swimming after playing long hours in the Sun.\"\n",
    "punctuations=\"?:!.,;\"\n",
    "sentence_words = nltk.word_tokenize(sentence)\n",
    "for word in sentence_words:\n",
    "    if word in punctuations:\n",
    "        sentence_words.remove(word)\n",
    "\n",
    "sentence_words\n",
    "print(\"{0:20}{1:20}\".format(\"Word\",\"Lemma\"))\n",
    "for word in sentence_words:\n",
    "    print (\"{0:20}{1:20}\".format(word,wordnet_lemmatizer.lemmatize(word,pos='v')))"
   ]
  },
  {
   "cell_type": "code",
   "execution_count": 69,
   "id": "106d2b72",
   "metadata": {
    "execution": {
     "iopub.execute_input": "2023-05-14T19:31:56.532030Z",
     "iopub.status.busy": "2023-05-14T19:31:56.531310Z",
     "iopub.status.idle": "2023-05-14T19:31:56.534431Z",
     "shell.execute_reply": "2023-05-14T19:31:56.535058Z",
     "shell.execute_reply.started": "2023-05-14T19:30:07.556846Z"
    },
    "papermill": {
     "duration": 0.079968,
     "end_time": "2023-05-14T19:31:56.535231",
     "exception": false,
     "start_time": "2023-05-14T19:31:56.455263",
     "status": "completed"
    },
    "tags": []
   },
   "outputs": [],
   "source": [
    "### I keep updating this list as I come accross new text Preprocessing need"
   ]
  }
 ],
 "metadata": {
  "kernelspec": {
   "display_name": "Python 3",
   "language": "python",
   "name": "python3"
  },
  "language_info": {
   "codemirror_mode": {
    "name": "ipython",
    "version": 3
   },
   "file_extension": ".py",
   "mimetype": "text/x-python",
   "name": "python",
   "nbconvert_exporter": "python",
   "pygments_lexer": "ipython3",
   "version": "3.7.12"
  },
  "papermill": {
   "default_parameters": {},
   "duration": 38.608907,
   "end_time": "2023-05-14T19:31:59.552379",
   "environment_variables": {},
   "exception": null,
   "input_path": "__notebook__.ipynb",
   "output_path": "__notebook__.ipynb",
   "parameters": {},
   "start_time": "2023-05-14T19:31:20.943472",
   "version": "2.3.3"
  }
 },
 "nbformat": 4,
 "nbformat_minor": 5
}
